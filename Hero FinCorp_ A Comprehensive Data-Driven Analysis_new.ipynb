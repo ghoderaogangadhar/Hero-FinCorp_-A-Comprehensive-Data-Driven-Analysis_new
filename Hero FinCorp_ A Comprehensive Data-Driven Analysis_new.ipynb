{
 "cells": [
  {
   "cell_type": "code",
   "execution_count": null,
   "id": "fc907404-ee75-4bfe-80cd-d10bd9e98660",
   "metadata": {},
   "outputs": [],
   "source": [
    "import pandas as pd\n",
    "import numpy as np\n",
    "import seaborn as sns\n",
    "import matplotlib.pyplot as plt"
   ]
  },
  {
   "cell_type": "code",
   "execution_count": null,
   "id": "abe361a4-63ac-4b6f-bd8b-9cdee8775f57",
   "metadata": {},
   "outputs": [],
   "source": [
    "df_customers=pd.read_csv(r\"C:\\Users\\lenovo\\Downloads\\ASSIGNMENT\\python assignment 15_3_2025\\customers.csv\")\n",
    "df_loans=pd.read_csv(r\"C:\\Users\\lenovo\\Downloads\\ASSIGNMENT\\python assignment 15_3_2025\\loans.csv\")\n",
    "df_defaults=pd.read_csv(r\"C:\\Users\\lenovo\\Downloads\\ASSIGNMENT\\python assignment 15_3_2025\\defaults.csv\")\n",
    "df_branch=pd.read_csv(r\"C:\\Users\\lenovo\\Downloads\\ASSIGNMENT\\python assignment 15_3_2025\\branches.csv\")\n",
    "df_transactions=pd.read_csv(r\"C:\\Users\\lenovo\\Downloads\\ASSIGNMENT\\python assignment 15_3_2025\\transactions.csv\")\n",
    "df_app=pd.read_csv(r\"C:\\Users\\lenovo\\Downloads\\ASSIGNMENT\\python assignment 15_3_2025\\applications.csv\")"
   ]
  },
  {
   "cell_type": "code",
   "execution_count": null,
   "id": "b2903d02-76e6-4caa-9ce7-1032ce1da66b",
   "metadata": {},
   "outputs": [],
   "source": [
    "df=pd.merge([df_app,df_branch,df_customers,df_defaults,df_loans,df_transactions],axis=1)"
   ]
  },
  {
   "cell_type": "code",
   "execution_count": null,
   "id": "499f6728-97cc-4931-88be-73da97c2eae2",
   "metadata": {},
   "outputs": [],
   "source": [
    "help(pd.merge)"
   ]
  },
  {
   "cell_type": "code",
   "execution_count": null,
   "id": "a039ce5e-9c15-440f-bd8d-bd6503c64474",
   "metadata": {},
   "outputs": [],
   "source": [
    "df_app.columns"
   ]
  },
  {
   "cell_type": "code",
   "execution_count": null,
   "id": "681c526b-591e-4885-926e-b2d849123362",
   "metadata": {},
   "outputs": [],
   "source": [
    "df_customers.columns"
   ]
  },
  {
   "cell_type": "code",
   "execution_count": null,
   "id": "9a109cf2-078a-4e50-9dd0-4710146083bc",
   "metadata": {},
   "outputs": [],
   "source": [
    "df_app_cust=df_app.merge(df_customers, on ='Customer_ID')"
   ]
  },
  {
   "cell_type": "code",
   "execution_count": null,
   "id": "2eca64eb-d7d6-4699-894b-efd1f6b10d3f",
   "metadata": {},
   "outputs": [],
   "source": [
    "df_app_cust.columns"
   ]
  },
  {
   "cell_type": "code",
   "execution_count": null,
   "id": "984ad0c7-de69-4ab6-bf04-30fca9956631",
   "metadata": {},
   "outputs": [],
   "source": [
    "df_app_cust_loan=df_app_cust.merge(df_loans, on ='Loan_ID')"
   ]
  },
  {
   "cell_type": "code",
   "execution_count": null,
   "id": "eb63d3e7-a3a7-4d66-9be2-0ec4c06ed8c5",
   "metadata": {},
   "outputs": [],
   "source": [
    "df_app_cust_loan.columns"
   ]
  },
  {
   "cell_type": "code",
   "execution_count": null,
   "id": "18ea9540-f8ea-446e-a9eb-e488476ba9be",
   "metadata": {},
   "outputs": [],
   "source": [
    "df_app_cust_loan_defaults=df_app_cust_loan.merge(df_defaults, on='Loan_ID')"
   ]
  },
  {
   "cell_type": "code",
   "execution_count": null,
   "id": "ab8d3096-c290-4c2c-90d4-6cd1e48c7aba",
   "metadata": {},
   "outputs": [],
   "source": [
    "df_app_cust_loan_defaults.columns"
   ]
  },
  {
   "cell_type": "code",
   "execution_count": null,
   "id": "05c05ad9-3549-4a6b-8cdc-7f52cc12afbb",
   "metadata": {},
   "outputs": [],
   "source": [
    "df_app_cust_loan_defaults_trans=df_app_cust_loan_defaults.merge(df_transactions,on='Customer_ID')"
   ]
  },
  {
   "cell_type": "code",
   "execution_count": null,
   "id": "0a88d55c-1b29-42ec-ac3d-b99c02335fbd",
   "metadata": {},
   "outputs": [],
   "source": [
    "df_app_cust_loan_defaults_trans.columns"
   ]
  },
  {
   "cell_type": "code",
   "execution_count": null,
   "id": "6e3415a1-ae0c-4e92-b89c-b856b01445be",
   "metadata": {},
   "outputs": [],
   "source": [
    "df_app_cust_loan_defaults_trans_branch=df_app_cust_loan_defaults_trans.merge(df_branch,on='Region')"
   ]
  },
  {
   "cell_type": "code",
   "execution_count": null,
   "id": "9ac41391-ed32-4e54-acce-8955d883759e",
   "metadata": {},
   "outputs": [],
   "source": [
    "df_app_cust_loan_defaults_trans_branch.columns"
   ]
  },
  {
   "cell_type": "code",
   "execution_count": null,
   "id": "5a1e37e6-588c-4438-8fe0-5d4de3c2c2c4",
   "metadata": {},
   "outputs": [],
   "source": [
    "df_app_cust_loan_defaults_trans_branch.isna()"
   ]
  },
  {
   "cell_type": "code",
   "execution_count": null,
   "id": "66b87793-3428-4a5c-870b-82722576b34b",
   "metadata": {},
   "outputs": [],
   "source": [
    "df_app_cust_loan_defaults_trans_branch.isna().sum()"
   ]
  },
  {
   "cell_type": "code",
   "execution_count": null,
   "id": "a2910a86-24c9-435d-a2ee-ccb0f7aa3744",
   "metadata": {},
   "outputs": [],
   "source": [
    "df_app_cust_loan_defaults_trans_branch.shape"
   ]
  },
  {
   "cell_type": "code",
   "execution_count": null,
   "id": "a2b79a4d-1669-4b0a-8f3d-8acbdd8e901c",
   "metadata": {},
   "outputs": [],
   "source": [
    "df_app_cust_loan_defaults_trans_branch.drop('Rejection_Reason',axis=1,inplace=True)"
   ]
  },
  {
   "cell_type": "code",
   "execution_count": null,
   "id": "31916d7b-2b99-455d-886b-d764a5c11a02",
   "metadata": {},
   "outputs": [],
   "source": [
    "df=df_app_cust_loan_defaults_trans_branch.copy()"
   ]
  },
  {
   "cell_type": "code",
   "execution_count": null,
   "id": "7f3bc2ce-df85-4d4d-97d8-c815da7ebc5a",
   "metadata": {},
   "outputs": [],
   "source": [
    "df"
   ]
  },
  {
   "cell_type": "code",
   "execution_count": null,
   "id": "72f5bbc1-aaaf-4f6d-b1d3-3fd65cd3a7d7",
   "metadata": {},
   "outputs": [],
   "source": [
    "df.dropna(inplace=True)"
   ]
  },
  {
   "cell_type": "code",
   "execution_count": null,
   "id": "09b268e3-2e1b-4422-bc19-72d2f0a5726b",
   "metadata": {},
   "outputs": [],
   "source": [
    "df.shape"
   ]
  },
  {
   "cell_type": "code",
   "execution_count": null,
   "id": "3c332922-4f76-4c2f-926e-78609d47dcc7",
   "metadata": {},
   "outputs": [],
   "source": [
    "df.duplicated().sum()"
   ]
  },
  {
   "cell_type": "code",
   "execution_count": null,
   "id": "c62eacc8-0829-40ca-bcaa-c366b6452801",
   "metadata": {},
   "outputs": [],
   "source": [
    "df.head()"
   ]
  },
  {
   "cell_type": "code",
   "execution_count": null,
   "id": "0bdac696-1a9c-4391-bf5a-a8cb342b274f",
   "metadata": {},
   "outputs": [],
   "source": [
    "for i in df.select_dtypes(['int64','float']):\n",
    "    plt.figure(figsize=(3,3))\n",
    "    sns.boxplot(y=i,data=df)\n",
    "    plt.show()"
   ]
  },
  {
   "cell_type": "code",
   "execution_count": null,
   "id": "f802a53a-2dde-46b6-8d75-64145b75a7b5",
   "metadata": {},
   "outputs": [],
   "source": [
    "#outlier treatment\n",
    "def remove_outlier(df,column):\n",
    "    Q1=df[column].quantile(0.25)\n",
    "    Q3=df[column].quantile(0.75)\n",
    "    IQR=Q3-Q1\n",
    "    lower_bound=Q1-(1.5*IQR)\n",
    "    upper_bound=Q3+(1.5*IQR)\n",
    "    return df[(df[column]>=lower_bound) & (df[column]<=upper_bound)]"
   ]
  },
  {
   "cell_type": "code",
   "execution_count": null,
   "id": "6f0f36a1-eac0-44a9-ad90-8a5726a7fe79",
   "metadata": {},
   "outputs": [],
   "source": [
    "columns=df.select_dtypes(['int64','float']).columns"
   ]
  },
  {
   "cell_type": "code",
   "execution_count": null,
   "id": "f2f1d67b-6441-4ba6-9083-3371928a75d4",
   "metadata": {},
   "outputs": [],
   "source": [
    "columns"
   ]
  },
  {
   "cell_type": "code",
   "execution_count": null,
   "id": "299b145a-ca1a-485b-a965-faca2d2f7157",
   "metadata": {},
   "outputs": [],
   "source": [
    "# calling the function to remove outliers\n",
    "df_clean=remove_outlier(df,columns)"
   ]
  },
  {
   "cell_type": "code",
   "execution_count": null,
   "id": "c20c7f0c-d065-4c88-b709-148f2d9e0ce6",
   "metadata": {},
   "outputs": [],
   "source": [
    "df_clean"
   ]
  },
  {
   "cell_type": "code",
   "execution_count": null,
   "id": "776f9390-b107-4d44-908a-1a66971d625b",
   "metadata": {},
   "outputs": [],
   "source": [
    "df.describe().T"
   ]
  },
  {
   "cell_type": "code",
   "execution_count": null,
   "id": "eecb32c0-30df-4fd5-bc4b-07623dad77cc",
   "metadata": {},
   "outputs": [],
   "source": [
    "df1=df[['Loan_Amount','Credit_Score','EMI_Amount']]"
   ]
  },
  {
   "cell_type": "code",
   "execution_count": null,
   "id": "c90a8adb-5203-4933-8950-ca918c92f3ce",
   "metadata": {},
   "outputs": [],
   "source": [
    "df1"
   ]
  },
  {
   "cell_type": "code",
   "execution_count": null,
   "id": "37e5d218-7b04-4e56-a02c-5d955223e209",
   "metadata": {},
   "outputs": [],
   "source": [
    "for i in df.select_dtypes(['int64','float64']):\n",
    "    plt.figure(figsize=(3,3))\n",
    "    sns.histplot(x=i,data=df)\n",
    "                \n",
    "    plt.show()"
   ]
  },
  {
   "cell_type": "markdown",
   "id": "4871c300-c5ab-4830-a689-00f9ec74dc38",
   "metadata": {},
   "source": [
    "Regional trends in loan disbursement and defaults."
   ]
  },
  {
   "cell_type": "code",
   "execution_count": null,
   "id": "b28ae3f8-7560-46e5-8623-b4171b3d722a",
   "metadata": {},
   "outputs": [],
   "source": [
    "#summarize the total loan regionwise\n",
    "loan_by_region=df.groupby('Region')['Loan_Amount'].sum().reset_index()"
   ]
  },
  {
   "cell_type": "code",
   "execution_count": null,
   "id": "dfbd99d8-cc7a-478f-bb53-408e209abb62",
   "metadata": {},
   "outputs": [],
   "source": [
    "sns.barplot(x='Region',y='Loan_Amount',data=loan_by_region)"
   ]
  },
  {
   "cell_type": "code",
   "execution_count": null,
   "id": "6b4ae097-a3c6-4c2a-8969-ebd66e979b3e",
   "metadata": {},
   "outputs": [],
   "source": [
    "df.columns"
   ]
  },
  {
   "cell_type": "code",
   "execution_count": null,
   "id": "79bf870b-4752-4300-a9c0-bc3d4b563dad",
   "metadata": {},
   "outputs": [],
   "source": [
    "df[['Default_Date', 'Default_Amount',\n",
    "       'Default_Reason']]"
   ]
  },
  {
   "cell_type": "code",
   "execution_count": null,
   "id": "3049c78e-2263-4fdb-bff5-fbee26be5e8e",
   "metadata": {},
   "outputs": [],
   "source": [
    "default_by_region=df.groupby('Region')['Default_Amount'].sum().reset_index()"
   ]
  },
  {
   "cell_type": "code",
   "execution_count": null,
   "id": "3b2ccf12-e621-4757-aed1-03be9cccb23f",
   "metadata": {},
   "outputs": [],
   "source": [
    "sns.barplot(x='Region',y='Default_Amount',data=default_by_region)"
   ]
  },
  {
   "cell_type": "markdown",
   "id": "b317a009-6a22-4640-b692-7b70cee2777e",
   "metadata": {},
   "source": [
    "o Monthly trends in loan approvals and disbursements. "
   ]
  },
  {
   "cell_type": "code",
   "execution_count": null,
   "id": "0143a07d-7e10-415b-b0d6-46b724774904",
   "metadata": {},
   "outputs": [],
   "source": [
    "df.columns"
   ]
  },
  {
   "cell_type": "code",
   "execution_count": null,
   "id": "078d8fb4-c24a-40ed-8fed-9f36821953cd",
   "metadata": {},
   "outputs": [],
   "source": [
    "df[['Application_Date','Approval_Status','Loan_Disbursement_Amount']]"
   ]
  },
  {
   "cell_type": "code",
   "execution_count": null,
   "id": "9471cb7a-db5c-46c0-adf0-067ba86fc7b4",
   "metadata": {},
   "outputs": [],
   "source": [
    "df['Application_Date']=pd.to_datetime(df['Application_Date'])"
   ]
  },
  {
   "cell_type": "code",
   "execution_count": null,
   "id": "c929f7ca-9862-493e-a806-d6334e4e5870",
   "metadata": {},
   "outputs": [],
   "source": [
    "df['Application_Date'].info()"
   ]
  },
  {
   "cell_type": "code",
   "execution_count": null,
   "id": "9c149612-09ad-48b7-a961-c94b44ad537b",
   "metadata": {},
   "outputs": [],
   "source": [
    "Month = df['Application_Date'].dt.to_period('M')\n"
   ]
  },
  {
   "cell_type": "code",
   "execution_count": null,
   "id": "12a7a217-9c3b-404c-a9eb-518d6cb6dd4a",
   "metadata": {},
   "outputs": [],
   "source": [
    "Month.count()"
   ]
  },
  {
   "cell_type": "code",
   "execution_count": null,
   "id": "f3ae42c7-1788-444a-97f7-8ee6d47a6de6",
   "metadata": {},
   "outputs": [],
   "source": [
    "monthly_approvals = df.groupby('Month').size()"
   ]
  },
  {
   "cell_type": "code",
   "execution_count": null,
   "id": "5b9433b8-1c9d-4cd5-81c3-6ceed6a7c249",
   "metadata": {},
   "outputs": [],
   "source": [
    "monthly_approvals"
   ]
  },
  {
   "cell_type": "code",
   "execution_count": null,
   "id": "b3998d15-29c4-4c4a-9dee-24dc4d81a97f",
   "metadata": {},
   "outputs": [],
   "source": [
    "df['Disbursal_Date'] = pd.to_datetime(df['Disbursal_Date'])"
   ]
  },
  {
   "cell_type": "code",
   "execution_count": null,
   "id": "eec8523b-9c6e-46c9-89aa-1a2dae29e076",
   "metadata": {},
   "outputs": [],
   "source": [
    "Month = df['Disbursal_Date'].dt.to_period('M')"
   ]
  },
  {
   "cell_type": "code",
   "execution_count": null,
   "id": "aa5319b3-6c3c-460c-afe3-1aa752ef2555",
   "metadata": {},
   "outputs": [],
   "source": [
    "monthly_disbursements = df.groupby('Month')['Loan_Disbursement_Amount'].sum().reset_index()"
   ]
  },
  {
   "cell_type": "code",
   "execution_count": null,
   "id": "aa162084-979e-481e-bb56-7479475b8637",
   "metadata": {},
   "outputs": [],
   "source": [
    "monthly_disbursements"
   ]
  },
  {
   "cell_type": "code",
   "execution_count": null,
   "id": "e7d3b97d-0629-4c70-ac4e-73086dd64425",
   "metadata": {},
   "outputs": [],
   "source": [
    "sns.barplot(x='Month',y='Loan_Disbursement_Amount',data=monthly_disbursements)"
   ]
  },
  {
   "cell_type": "markdown",
   "id": "87948ae5-f69b-40e5-b628-b006b2feb981",
   "metadata": {},
   "source": [
    "3. Default Risk Analysis \n",
    "● Correlation Between Loan Attributes and Defaults: \n",
    "o Calculate correlations between Loan_Amount, Interest_Rate, \n",
    "Credit_Score, and Default_Flag (a binary indicator for default). "
   ]
  },
  {
   "cell_type": "code",
   "execution_count": null,
   "id": "86a497f3-ea01-4bd3-aa8c-ecdf80bd9e48",
   "metadata": {},
   "outputs": [],
   "source": [
    "df['Default_Flag'] = np.where(df['Loan_Status'] == 'Defaulted', 1, 0)"
   ]
  },
  {
   "cell_type": "code",
   "execution_count": null,
   "id": "86718d68-738d-4f10-b776-783c9b4a2cb1",
   "metadata": {},
   "outputs": [],
   "source": []
  },
  {
   "cell_type": "code",
   "execution_count": null,
   "id": "629ae130-be71-4622-a52a-9f4156357cb8",
   "metadata": {},
   "outputs": [],
   "source": [
    "correlation_data = df[['Loan_Amount', 'Interest_Rate', 'Credit_Score', 'Default_Flag']].corr()"
   ]
  },
  {
   "cell_type": "code",
   "execution_count": null,
   "id": "339a14bf-8515-4150-b92f-d0a71456132b",
   "metadata": {},
   "outputs": [],
   "source": [
    "correlation_data"
   ]
  },
  {
   "cell_type": "code",
   "execution_count": null,
   "id": "ba40790b-6735-46d8-8b14-fde6c82fd8c1",
   "metadata": {},
   "outputs": [],
   "source": [
    "plt.figure(figsize=(8, 6))\n",
    "sns.heatmap(correlation_data, annot=True, cmap='coolwarm', square=True)\n",
    "plt.title('correlation_data')\n",
    "plt.show()"
   ]
  },
  {
   "cell_type": "markdown",
   "id": "5ffe6750-9a10-4f18-91a8-a09333a93900",
   "metadata": {},
   "source": [
    "● Pairwise Correlation Analysis: \n",
    "o Create a heatmap to visualize the correlations between key \n",
    "variables, such as EMI_Amount, Overdue_Amount, and \n",
    "Default_Amount. "
   ]
  },
  {
   "cell_type": "code",
   "execution_count": null,
   "id": "864c0d2f-e08f-4da8-ac0c-5ffd36b12118",
   "metadata": {},
   "outputs": [],
   "source": [
    "correlation_data1=df[['EMI_Amount','Overdue_Amount','Default_Amount']]\n",
    "correlation_data1"
   ]
  },
  {
   "cell_type": "code",
   "execution_count": null,
   "id": "3bde634f-7616-4e8a-bac8-44c9689514a2",
   "metadata": {},
   "outputs": [],
   "source": [
    "correlation=correlation_data1.corr()\n",
    "correlation"
   ]
  },
  {
   "cell_type": "code",
   "execution_count": null,
   "id": "94e61d22-ddf5-4cef-9af1-66894f1ea1b2",
   "metadata": {},
   "outputs": [],
   "source": [
    "plt.figure(figsize=(8, 6))\n",
    "sns.heatmap(correlation, annot=True, cmap=\"coolwarm\", fmt=\".2f\", linewidths=0.5)\n",
    "plt.title(\"Pairwise Correlation Analysis\")\n",
    "plt.show()\n"
   ]
  },
  {
   "cell_type": "markdown",
   "id": "bb91ef59-f85c-448a-8216-eec2aa6ba9af",
   "metadata": {},
   "source": [
    "● Correlation Between Branch Metrics and Defaults: \n",
    "o Analyze the relationship between branch performance metrics (e.g., \n",
    "Delinquent_Loans, Loan_Disbursement_Amount) and default rates. "
   ]
  },
  {
   "cell_type": "code",
   "execution_count": null,
   "id": "f7d15a14-5260-46e1-8aac-c1996183e251",
   "metadata": {},
   "outputs": [],
   "source": [
    "df.columns"
   ]
  },
  {
   "cell_type": "code",
   "execution_count": null,
   "id": "48fe0c4f-12e0-411d-b05c-b0542fe1f1c5",
   "metadata": {},
   "outputs": [],
   "source": [
    "df[['Total_Active_Loans','Delinquent_Loans','Loan_Disbursement_Amount']]"
   ]
  },
  {
   "cell_type": "code",
   "execution_count": null,
   "id": "b949764a-f73d-47fb-8989-0a630eec223b",
   "metadata": {},
   "outputs": [],
   "source": [
    "# Step 2: Count defaults per branch\n",
    "branch_defaults = df.groupby(\"Branch_ID\")[\"Loan_ID_x\"].count().reset_index()\n",
    "branch_defaults.columns = [\"Branch_ID\", \"Default_Count\"]"
   ]
  },
  {
   "cell_type": "code",
   "execution_count": null,
   "id": "0dfee1bb-fecb-4a4c-85e7-956bce38256b",
   "metadata": {},
   "outputs": [],
   "source": [
    "branch_defaults.columns"
   ]
  },
  {
   "cell_type": "code",
   "execution_count": null,
   "id": "4575fa08-670a-484e-9784-81f3aa16c90d",
   "metadata": {},
   "outputs": [],
   "source": [
    "branch_data = df.merge(branch_defaults, on=\"Branch_ID\", how=\"left\").fillna(0)"
   ]
  },
  {
   "cell_type": "code",
   "execution_count": null,
   "id": "28fbc985-780d-4cca-a0e9-d426033c125f",
   "metadata": {},
   "outputs": [],
   "source": [
    "branch_data"
   ]
  },
  {
   "cell_type": "code",
   "execution_count": null,
   "id": "f451b75f-7145-4633-aa48-2a77dd9aab96",
   "metadata": {},
   "outputs": [],
   "source": [
    "branch_data[\"Default_Rate\"] = (branch_data[\"Default_Count\"] / branch_data[\"Total_Active_Loans\"]) * 100"
   ]
  },
  {
   "cell_type": "code",
   "execution_count": null,
   "id": "7e72fca0-296a-4542-ab73-d8ba4c0c3203",
   "metadata": {},
   "outputs": [],
   "source": [
    "branch_data[\"Default_Rate\"]"
   ]
  },
  {
   "cell_type": "code",
   "execution_count": null,
   "id": "1d78da42-89f5-4acd-9525-6c8d9d90a34b",
   "metadata": {},
   "outputs": [],
   "source": [
    "correlation_matrix = branch_data[[\n",
    "    \"Total_Active_Loans\", \n",
    "    \"Delinquent_Loans\", \n",
    "    \"Loan_Disbursement_Amount\", \n",
    "    \"Default_Rate\"\n",
    "]].corr()\n",
    "\n",
    "correlation_matrix"
   ]
  },
  {
   "cell_type": "code",
   "execution_count": null,
   "id": "088b5f21-cf06-4f9a-89df-eb991f08e585",
   "metadata": {},
   "outputs": [],
   "source": [
    "plt.figure(figsize=(8, 6))\n",
    "sns.heatmap(correlation_matrix, annot=True, cmap=\"coolwarm\", fmt=\".2f\", linewidths=0.5)\n",
    "plt.title(\"Correlation Matrix: Branch Metrics vs Defaults\")\n",
    "plt.show()"
   ]
  },
  {
   "cell_type": "markdown",
   "id": "5eb66b03-334a-4055-b503-378665908538",
   "metadata": {},
   "source": [
    "4. Branch and Regional Performance \n",
    "● Rank branches by: \n",
    "o Loan disbursement volume. \n",
    "o Processing time efficiency. \n",
    "o Default rates and recovery rates. \n",
    "● Compare branch performance across regions. "
   ]
  },
  {
   "cell_type": "code",
   "execution_count": null,
   "id": "2035280a-22c3-40e5-8077-9c99989dea8c",
   "metadata": {},
   "outputs": [],
   "source": [
    "branch_defaults = df.groupby(\"Branch_ID\")[\"Loan_Disbursement_Amount\"].sum().reset_index()\n",
    "branch_defaults"
   ]
  },
  {
   "cell_type": "code",
   "execution_count": null,
   "id": "263703b4-e9bb-41ba-80c5-fbfa49c01ddc",
   "metadata": {},
   "outputs": [],
   "source": [
    "branch_disbursement = branch_defaults.sort_values(by='Loan_Disbursement_Amount', ascending=False)\n",
    "branch_disbursement"
   ]
  },
  {
   "cell_type": "code",
   "execution_count": null,
   "id": "eaeca6ef-beb9-4d62-8100-07a36eb2a79a",
   "metadata": {},
   "outputs": [],
   "source": [
    "branch_disbursement.head(10)"
   ]
  },
  {
   "cell_type": "code",
   "execution_count": null,
   "id": "2ef93574-8968-46ad-9e1b-66af860a46d9",
   "metadata": {},
   "outputs": [],
   "source": [
    "import matplotlib.pyplot as plt\n",
    "import seaborn as sns\n",
    "\n",
    "plt.figure(figsize=(10, 6))\n",
    "\n",
    "# Column names should be in quotes\n",
    "sns.barplot(x='Branch_ID', y='Loan_Disbursement_Amount', data=branch_disbursement.head(10))\n",
    "plt.title('Top 10 Branches')\n",
    "plt.xticks(rotation=90)  \n",
    "plt.show()\n"
   ]
  },
  {
   "cell_type": "code",
   "execution_count": null,
   "id": "1acfd52a-9220-41d3-b09c-4ccf26d6f330",
   "metadata": {},
   "outputs": [],
   "source": [
    "df['Application_Date'] = pd.to_datetime(df['Application_Date'])\n",
    "df['Approval_Date'] = pd.to_datetime(df['Approval_Date'])"
   ]
  },
  {
   "cell_type": "code",
   "execution_count": null,
   "id": "a08241f2-09ba-47e9-be64-8bc7bf8d7ebf",
   "metadata": {},
   "outputs": [],
   "source": [
    "#calculate proccesing time\n",
    "df['proccesing_time']=(df['Approval_Date']-df['Application_Date'])\n",
    "df['proccesing_time']"
   ]
  },
  {
   "cell_type": "code",
   "execution_count": null,
   "id": "d9ae19cf-ce7f-4d74-aac7-da4fdd9f994b",
   "metadata": {},
   "outputs": [],
   "source": [
    "Branch_efficiency=df.groupby('Branch_ID')['proccesing_time'].mean().reset_index()\n",
    "Branch_efficiency.head(10)"
   ]
  },
  {
   "cell_type": "code",
   "execution_count": null,
   "id": "15d9748a-92e5-4a61-9651-8adbfbb66c52",
   "metadata": {},
   "outputs": [],
   "source": [
    "#rank\n",
    "Branch_efficiency_sorted=Branch_efficiency.sort_values(by='proccesing_time')\n",
    "Branch_efficiency_sorted"
   ]
  },
  {
   "cell_type": "code",
   "execution_count": null,
   "id": "83108347-5b82-4f50-807c-338218624483",
   "metadata": {},
   "outputs": [],
   "source": [
    "Branch_efficiency_sorted.head(10)"
   ]
  },
  {
   "cell_type": "code",
   "execution_count": null,
   "id": "e2fdc3aa-109c-4d6e-b983-868aa7100b3b",
   "metadata": {},
   "outputs": [],
   "source": [
    "plt.figure(figsize=(10,6))\n",
    "sns.barplot(x='Branch_ID',y='proccesing_time',data=Branch_efficiency_sorted.head(10))\n",
    "plt.title('top 10 sortrd branch')\n",
    "plt.xticks(rotation=90)\n",
    "plt.show()"
   ]
  },
  {
   "cell_type": "code",
   "execution_count": null,
   "id": "c9cb5cca-fb45-4a55-809d-79189c1b3ec0",
   "metadata": {},
   "outputs": [],
   "source": [
    "#calculate total loan\n",
    "Branch_total_loans=df.groupby('Branch_ID')['Loan_ID_y'].count().reset_index(name='Total_Loans')\n",
    "Branch_total_loans"
   ]
  },
  {
   "cell_type": "code",
   "execution_count": null,
   "id": "6321cd19-1d68-467c-91f2-efc350fd1098",
   "metadata": {},
   "outputs": [],
   "source": [
    "#calculate default loan\n",
    "branch_defaults = df[df['Default_Amount'].notna()].groupby('Branch_ID')['Loan_ID_y'].count().reset_index(name='Defaulted_Loans')\n",
    "branch_defaults"
   ]
  },
  {
   "cell_type": "code",
   "execution_count": null,
   "id": "afdc542b-053b-4c51-a0b2-551f1a3918ca",
   "metadata": {},
   "outputs": [],
   "source": [
    "# merge both table defaulted loan & total loan\n",
    "branch_performance = pd.merge(Branch_total_loans, branch_defaults, on='Branch_ID', how='left').fillna(0)\n",
    "branch_performance"
   ]
  },
  {
   "cell_type": "code",
   "execution_count": null,
   "id": "3c0225e2-9a31-428c-b777-0815a7d914aa",
   "metadata": {},
   "outputs": [],
   "source": [
    "# Calculate Default Rate\n",
    "branch_performance['Default_Rate (%)'] = (branch_performance['Defaulted_Loans'] / branch_performance['Total_Loans']) * 100\n",
    "branch_performance['Default_Rate (%)'].head(10)"
   ]
  },
  {
   "cell_type": "code",
   "execution_count": null,
   "id": "aec63e32-eb16-4d55-94d2-a01137ba611d",
   "metadata": {},
   "outputs": [],
   "source": [
    "#calculate recury rate\n",
    "recovery_data = df.groupby('Branch_ID').agg({'Default_Amount': 'sum', 'Recovery_Amount': 'sum'}).reset_index()\n",
    "recovery_data['Recovery_Rate (%)'] = (recovery_data['Recovery_Amount'] / recovery_data['Default_Amount']) * 100"
   ]
  },
  {
   "cell_type": "code",
   "execution_count": null,
   "id": "373c6c4a-0aaf-46b0-a134-8289d5f96e0b",
   "metadata": {},
   "outputs": [],
   "source": [
    "recovery_data['Recovery_Rate (%)'].head(10)"
   ]
  },
  {
   "cell_type": "code",
   "execution_count": null,
   "id": "cef4906e-fcd1-4904-9b7e-08bd60e92f4c",
   "metadata": {},
   "outputs": [],
   "source": [
    "final_performance = pd.merge(branch_performance, recovery_data[['Branch_ID', 'Recovery_Rate (%)']], on='Branch_ID', how='left').fillna(0)"
   ]
  },
  {
   "cell_type": "code",
   "execution_count": null,
   "id": "3fdf7b1b-c856-4f1a-94f2-cc780c9ee88c",
   "metadata": {},
   "outputs": [],
   "source": [
    "final_performance[['Branch_ID', 'Default_Rate (%)', 'Recovery_Rate (%)']].head(10)"
   ]
  },
  {
   "cell_type": "code",
   "execution_count": null,
   "id": "2bdba761-6e49-4994-b6ea-ac3bf3e6fb8d",
   "metadata": {},
   "outputs": [],
   "source": [
    "plt.figure(figsize=(12, 10))\n",
    "sns.barplot(x='Branch_ID', y='Default_Rate (%)', data=final_performance.sort_values('Default_Rate (%)', ascending=False).head(10))\n",
    "plt.title('Top 10 Branches with Highest Default Rates')\n",
    "plt.xticks(rotation=90)\n",
    "plt.show()"
   ]
  },
  {
   "cell_type": "code",
   "execution_count": null,
   "id": "83bb961e-8e71-45fd-ba6c-18a549070b74",
   "metadata": {},
   "outputs": [],
   "source": [
    "plt.figure(figsize=(12, 10))\n",
    "sns.barplot(x='Branch_ID', y='Recovery_Rate (%)', data=final_performance.sort_values('Recovery_Rate (%)', ascending=False).head(10))\n",
    "plt.title('Top 10 Branches with Highest Recovery Rates')\n",
    "plt.xticks(rotation=90)\n",
    "plt.show()"
   ]
  },
  {
   "cell_type": "markdown",
   "id": "11919c16-c332-416f-ac90-c6a374e7d968",
   "metadata": {},
   "source": [
    "Compare branch performance across regions."
   ]
  },
  {
   "cell_type": "markdown",
   "id": "0cc0ea56-6333-4176-8119-a5277db782aa",
   "metadata": {},
   "source": [
    "5. Customer Segmentation \n",
    "● Segment customers by income, credit score, and loan status. \n",
    "● Identify high-risk and high-value customer groups. \n",
    "● Analyze repayment behavior across segments."
   ]
  },
  {
   "cell_type": "code",
   "execution_count": null,
   "id": "6ae114d1-c1f5-4878-9b22-8af54071c661",
   "metadata": {},
   "outputs": [],
   "source": [
    "from sklearn.cluster import KMeans\n",
    "from sklearn.preprocessing import StandardScaler"
   ]
  },
  {
   "cell_type": "code",
   "execution_count": null,
   "id": "29771cdb-965c-4ec8-8d94-c3d744fc8a7d",
   "metadata": {},
   "outputs": [],
   "source": [
    "features = df[['Annual_Income', 'Credit_Score', 'Default_Flag']].fillna(0)\n",
    "features"
   ]
  },
  {
   "cell_type": "code",
   "execution_count": null,
   "id": "5b78116b-86c3-479c-83f6-92dac41a6823",
   "metadata": {},
   "outputs": [],
   "source": [
    "\n",
    "# Standardizing data for K-Means\n",
    "scaler = StandardScaler()\n",
    "scaled_features = scaler.fit_transform(features)"
   ]
  },
  {
   "cell_type": "code",
   "execution_count": null,
   "id": "ae9a0ad2-5ac1-46c3-860a-98269a0625de",
   "metadata": {},
   "outputs": [],
   "source": [
    "# K-Means Clustering (Choosing 3 clusters for segmentation)\n",
    "kmeans = KMeans(n_clusters=3, random_state=42, n_init=10)\n",
    "df['Segment'] = kmeans.fit_predict(scaled_features)\n",
    "df['Segment']"
   ]
  },
  {
   "cell_type": "code",
   "execution_count": null,
   "id": "2847ade9-5c8d-4de5-be1a-1b8eb51db58c",
   "metadata": {},
   "outputs": [],
   "source": [
    "# Vi)sualizing Segmentation: Income vs Credit Score\n",
    "plt.figure(figsize=(10, 6))\n",
    "sns.scatterplot(x='Annual_Income', y='Credit_Score', hue='Segment', data=df, palette='Set2')\n",
    "plt.title('Customer Segmentation: Income vs Credit Score')\n",
    "plt.show()"
   ]
  },
  {
   "cell_type": "code",
   "execution_count": null,
   "id": "5612ae07-0258-4c94-b517-f38653cd5e54",
   "metadata": {},
   "outputs": [],
   "source": [
    "# Visualizing Loan Status by Segments\n",
    "plt.figure(figsize=(10, 6))\n",
    "sns.countplot(x='Segment', hue='Default_Flag', data=df, palette='coolwarm')\n",
    "plt.title('Loan Status Distribution Across Segments')\n",
    "plt.show()"
   ]
  },
  {
   "cell_type": "markdown",
   "id": "b8e1c929-32aa-4033-8fba-3eabff10c77b",
   "metadata": {},
   "source": [
    " Identify high-risk and high-value customer groups."
   ]
  },
  {
   "cell_type": "code",
   "execution_count": null,
   "id": "ceea60a4-d99a-408b-918d-9c692ca1fda5",
   "metadata": {},
   "outputs": [],
   "source": [
    "from sklearn.cluster import KMeans\n",
    "from sklearn.preprocessing import StandardScaler"
   ]
  },
  {
   "cell_type": "code",
   "execution_count": null,
   "id": "1d5db33c-587e-4190-8c9c-4d2f16c37e27",
   "metadata": {},
   "outputs": [],
   "source": [
    "#  Select relevant features\n",
    "features = df[['Annual_Income', 'Credit_Score', 'Loan_Amount']]\n",
    "features"
   ]
  },
  {
   "cell_type": "code",
   "execution_count": null,
   "id": "8344ba8f-4f3e-46c4-8cd4-5cb8f71e61b5",
   "metadata": {},
   "outputs": [],
   "source": [
    "#  Data Scaling\n",
    "scaler = StandardScaler()\n",
    "scaled_features = scaler.fit_transform(features)"
   ]
  },
  {
   "cell_type": "code",
   "execution_count": null,
   "id": "bdf257fa-d56f-496c-8e5a-aec3a3c4acb7",
   "metadata": {},
   "outputs": [],
   "source": [
    "kmeans = KMeans(n_clusters=3, random_state=42)  \n",
    "df['Cluster'] = kmeans.fit_predict(scaled_features)\n",
    "df['Cluster']"
   ]
  },
  {
   "cell_type": "code",
   "execution_count": null,
   "id": "a0d1e712-b2f0-4ee4-a9c7-abec408033f2",
   "metadata": {},
   "outputs": [],
   "source": [
    "#Visualize the clusters\n",
    "plt.figure(figsize=(8, 6))\n",
    "sns.scatterplot(x='Annual_Income', y='Credit_Score', hue='Cluster', data=df, palette='viridis')\n",
    "plt.title('Customer Segmentation: Income vs Credit Score')\n",
    "plt.show()"
   ]
  },
  {
   "cell_type": "code",
   "execution_count": null,
   "id": "0796c030-4af6-4c74-9aec-3e11165c99c6",
   "metadata": {},
   "outputs": [],
   "source": [
    "cluster_summary = df.groupby('Cluster').agg({\n",
    "    'Annual_Income': 'mean',\n",
    "    'Credit_Score': 'mean',\n",
    "    'Loan_Amount': 'mean',\n",
    "    'Default_Flag': 'mean'\n",
    "})\n",
    "\n",
    "print(cluster_summary)"
   ]
  },
  {
   "cell_type": "markdown",
   "id": "780afcd7-8730-44bd-b72d-4b65e833e81d",
   "metadata": {},
   "source": [
    "● Analyze repayment behavior across segments. "
   ]
  },
  {
   "cell_type": "code",
   "execution_count": null,
   "id": "fdadb9b6-f7bf-41c3-b23b-3ffc98869e0a",
   "metadata": {},
   "outputs": [],
   "source": [
    "df['On_Time_Payment'] = df['Payment_Type'].apply(lambda x: 1 if x == 'EMI Payment' else 0)"
   ]
  },
  {
   "cell_type": "code",
   "execution_count": null,
   "id": "d573f384-e6bd-4c8e-984f-3f48e9b73729",
   "metadata": {},
   "outputs": [],
   "source": [
    "df['On_Time_Payment']"
   ]
  },
  {
   "cell_type": "code",
   "execution_count": null,
   "id": "edd62cee-1398-4264-8132-4b8367b0bc02",
   "metadata": {},
   "outputs": [],
   "source": [
    "repayment_behavior = df.groupby('Customer_ID').agg({\n",
    "    'On_Time_Payment': 'sum',\n",
    "    'Amount': 'sum',\n",
    "    'Default_Amount': 'sum',\n",
    "    'Annual_Income': 'first',\n",
    "    'Credit_Score': 'first'\n",
    "}).reset_index()"
   ]
  },
  {
   "cell_type": "code",
   "execution_count": null,
   "id": "636bd01f-aefd-42dc-b389-7fb083bf3e74",
   "metadata": {},
   "outputs": [],
   "source": [
    "#Segment analysis\n",
    "# Creating segments based on income and credit score\n",
    "def assign_segment(row):\n",
    "    if row['Credit_Score'] > 750 and row['Annual_Income'] > 1000000:\n",
    "        return 'High Value'\n",
    "    elif row['Credit_Score'] < 600:\n",
    "        return 'High Risk'\n",
    "    else:\n",
    "        return 'Moderate Risk'\n",
    "\n",
    "repayment_behavior['Segment'] = repayment_behavior.apply(assign_segment, axis=1)\n"
   ]
  },
  {
   "cell_type": "code",
   "execution_count": null,
   "id": "01481421-5e18-4c45-b5d4-a1083e974857",
   "metadata": {},
   "outputs": [],
   "source": [
    "plt.figure(figsize=(10, 6))\n",
    "sns.boxplot(x='Segment', y='On_Time_Payment', data=repayment_behavior)\n",
    "plt.title('Repayment Behavior Across Customer Segments')\n",
    "plt.show()"
   ]
  },
  {
   "cell_type": "code",
   "execution_count": null,
   "id": "8507dad3-27b3-427b-9a23-6fb8f4544f6a",
   "metadata": {},
   "outputs": [],
   "source": [
    "#  Summary Analysis\n",
    "segment_summary = repayment_behavior.groupby('Segment').agg({\n",
    "    'On_Time_Payment': 'mean',\n",
    "    'Amount': 'mean',\n",
    "    'Default_Amount': 'mean'\n",
    "}).round(2)\n",
    "\n",
    "print(segment_summary)"
   ]
  },
  {
   "cell_type": "markdown",
   "id": "546590c3-b908-4e5c-a6d8-400e31b238fb",
   "metadata": {},
   "source": [
    "6. Advanced Statistical Analysis \n",
    ". Correlation Analysis for Default Risks: \n",
    "o Examine the correlation between Credit_Score, Loan_Amount, \n",
    "Interest_Rate, Overdue_Amount, and Default_Flag."
   ]
  },
  {
   "cell_type": "code",
   "execution_count": null,
   "id": "36f1f8fc-cd02-4f41-a34d-75955373b75f",
   "metadata": {},
   "outputs": [],
   "source": [
    "# Select relevant columns\n",
    "corr_df = df[['Credit_Score', 'Loan_Amount', 'Interest_Rate', 'Overdue_Amount', 'Default_Flag']]\n",
    "\n",
    "# Calculate correlation matrix\n",
    "corr_matrix = corr_df.corr()\n",
    "\n",
    "# Visualize correlation matrix\n",
    "plt.figure(figsize=(8, 6))\n",
    "sns.heatmap(corr_matrix, annot=True, cmap='coolwarm', square=True)\n",
    "plt.title('Correlation Matrix for Default Risks')\n",
    "plt.show()"
   ]
  },
  {
   "cell_type": "code",
   "execution_count": null,
   "id": "e4860bf7-5ffa-452b-b700-241234267071",
   "metadata": {},
   "outputs": [],
   "source": [
    "# Calculate pairwise correlations\n",
    "df['Recovery_Rate'] = df['Recovery_Amount'] /['Default_Amount'] * 100\n",
    "corr_matrix = df[['EMI_Amount','recovery_rate', 'Loan_Amount']].corr()\n",
    "\n",
    "# Generate heatmap\n",
    "plt.figure(figsize=(8, 6))\n",
    "sns.heatmap(corr_matrix, annot=True, cmap='coolwarm', square=True)\n",
    "plt.title('Pairwise Correlation Heatmap')\n",
    "plt.show()"
   ]
  },
  {
   "cell_type": "markdown",
   "id": "4791e60a-71e7-4620-b038-69fb8be0cce7",
   "metadata": {},
   "source": [
    "3. Branch-Level Correlation: \n",
    "o Explore the relationship between branch performance metrics \n",
    "(Delinquent_Loans, Loan_Disbursement_Amount, Recovery_Rate) \n",
    "and overall efficiency. "
   ]
  },
  {
   "cell_type": "code",
   "execution_count": null,
   "id": "4217481f-7350-4936-8f0a-c3c3d2b8bfc1",
   "metadata": {},
   "outputs": [],
   "source": [
    "# Calculate overall efficiency\n",
    "branch_data['Efficiency_Ratio'] = (df['Loan_Disbursement_Amount'] /['Delinquent_Loans']) * df['Default_Amount']\n",
    "\n",
    "# Analyze correlations\n",
    "corr_matrix = branch_data[['Delinquent_Loans', 'Loan_Disbursement_Amount', 'Default_Amount', 'Efficiency_Ratio']].corr()\n",
    "\n",
    "# Visualize relationships\n",
    "plt.figure(figsize=(10, 8))\n",
    "sns.heatmap(corr_matrix, annot=True, cmap='coolwarm', square=True)\n",
    "plt.title('Branch-Level Correlations')\n",
    "plt.show()"
   ]
  },
  {
   "cell_type": "markdown",
   "id": "518bc718-5769-4280-9fc2-a4b32aa9eaf0",
   "metadata": {},
   "source": [
    "7. Transaction and Recovery Analysis \n",
    "● Analyze penalty payments and overdue trends. \n",
    "● Evaluate recovery rates by Default_Reason and Legal_Action. \n",
    "● Compare recovery rates across regions and branches"
   ]
  },
  {
   "cell_type": "code",
   "execution_count": null,
   "id": "c6bcdaa3-ae41-4528-9426-c705463ed86e",
   "metadata": {},
   "outputs": [],
   "source": [
    " #Calculate penalty payments\n",
    "penalty_payments = df[df['Overdue_Fee'] > 0]\n",
    "total_penalty_amount = penalty_payments['Overdue_Fee'].sum()\n",
    "\n",
    "# Analyze overdue trends\n",
    "overdue_amounts = df[df['Overdue_Fee'] > 0]\n",
    "overdue_distribution = overdue_amounts['Overdue_Fee'].value_counts()\n",
    "\n",
    "# Visualize the analysis\n",
    "plt.figure(figsize=(10, 6))\n",
    "plt.bar(overdue_distribution.index, overdue_distribution.values)\n",
    "plt.xlabel('Overdue Fee')\n",
    "plt.ylabel('Frequency')\n",
    "plt.title('Overdue Fee Distribution')\n",
    "plt.show()"
   ]
  },
  {
   "cell_type": "markdown",
   "id": "ca01a11b-2d15-4e9f-b039-4bf3d915927d",
   "metadata": {},
   "source": [
    "8. EMI Analysis \n",
    "\n",
    "● Analyze the relationship between EMI amounts and default probabilities. \n",
    "● Identify thresholds for EMI amounts where defaults are most likely. \n",
    "● Compare EMI trends across loan types."
   ]
  },
  {
   "cell_type": "markdown",
   "id": "f289da63-44d5-4a53-b79b-f4081f4cda9a",
   "metadata": {},
   "source": [
    "● Analyze the relationship between EMI amounts and default probabilities. "
   ]
  },
  {
   "cell_type": "code",
   "execution_count": null,
   "id": "88af9bcd-a64a-4933-8e2a-bdb51424680e",
   "metadata": {},
   "outputs": [],
   "source": [
    "import pandas as pd\n",
    "import seaborn as sns\n",
    "import matplotlib.pyplot as plt\n",
    "\n",
    "# Step 1: Group data to calculate default rates for different EMI ranges\n",
    "df['EMI_Range'] = pd.cut(df['EMI_Amount'], bins=[0, 5000, 10000, 20000, 50000, 100000], labels=['0-5K', '5K-10K', '10K-20K', '20K-50K', '50K-100K'])\n",
    "\n",
    "# Step 2: Calculate default rates\n",
    "emi_analysis = df.groupby('EMI_Range').agg(\n",
    "    Total_Loans=('Loan_ID_x', 'count'),\n",
    "    Defaults=('Default_Flag', 'sum')\n",
    ").reset_index()\n",
    "\n",
    "# Step 3: Calculate the probability of default\n",
    "emi_analysis['Default_Rate'] = (emi_analysis['Defaults'] / emi_analysis['Total_Loans']) * 100\n",
    "\n",
    "# Step 4: Visualize the EMI Analysis\n",
    "plt.figure(figsize=(10, 6))\n",
    "sns.barplot(x='EMI_Range', y='Default_Rate', data=emi_analysis, palette='coolwarm')\n",
    "plt.title('Default Probability by EMI Range')\n",
    "plt.xlabel('EMI Range')\n",
    "plt.ylabel('Default Probability (%)')\n",
    "plt.show()\n"
   ]
  },
  {
   "cell_type": "markdown",
   "id": "cc11fb36-b293-4cb4-acfc-6109aaccd76d",
   "metadata": {},
   "source": [
    "● Identify thresholds for EMI amounts where defaults are most likely. "
   ]
  },
  {
   "cell_type": "code",
   "execution_count": null,
   "id": "3f07328c-5dfd-4da1-b38d-f96657cd056e",
   "metadata": {},
   "outputs": [],
   "source": [
    "df_sorted = df[['EMI_Amount', 'Default_Flag']].sort_values('EMI_Amount')\n",
    "\n",
    "#: Create EMI bins with smaller intervals for detailed analysis\n",
    "df_sorted['EMI_Bins'] = pd.cut(df_sorted['EMI_Amount'], bins=range(0, 100000, 5000))\n",
    "df_sorted\n",
    "df_sorted['EMI_Bins']\n",
    "\n",
    "# : Calculate default rates for each EMI bin with observed=False\n",
    "emi_threshold_analysis = df_sorted.groupby('EMI_Bins', observed=False).agg(\n",
    "    Total_Loans=('EMI_Amount', 'count'),\n",
    "    Defaults=('Default_Flag', 'sum')\n",
    ").reset_index()\n",
    "\n",
    "\n",
    "# : Calculate default rates\n",
    "emi_threshold_analysis['Default_Rate'] = (emi_threshold_analysis['Defaults'] / \n",
    "                                          emi_threshold_analysis['Total_Loans']) * 100\n",
    "emi_threshold_analysis['Default_Rate']"
   ]
  },
  {
   "cell_type": "code",
   "execution_count": null,
   "id": "92e46ecb-04e4-4660-8c18-d971533fa290",
   "metadata": {},
   "outputs": [],
   "source": [
    "df_sorted.head(10)"
   ]
  },
  {
   "cell_type": "markdown",
   "id": "ec9e4615-0c72-4332-b8b1-c4f08152a48f",
   "metadata": {},
   "source": [
    " Compare EMI trends across loan types"
   ]
  },
  {
   "cell_type": "code",
   "execution_count": null,
   "id": "2369ca24-d041-44e1-9bae-fddf35f7bf04",
   "metadata": {},
   "outputs": [],
   "source": [
    "emi_trends = df.groupby('Loan_Purpose').agg(\n",
    "    Avg_EMI=('EMI_Amount', 'mean'),\n",
    "    Median_EMI=('EMI_Amount', 'median'),\n",
    "    Default_Rate=('Default_Flag', 'mean')\n",
    ").reset_index()"
   ]
  },
  {
   "cell_type": "code",
   "execution_count": null,
   "id": "ce4e4fb4-3bd0-4749-96b9-91fa70a45356",
   "metadata": {},
   "outputs": [],
   "source": [
    "plt.figure(figsize=(12, 6))\n",
    "\n",
    "# Bar plot for Average EMI by Loan Type\n",
    "sns.barplot(x='Loan_Purpose', y='Avg_EMI', data=emi_trends, palette='Blues')\n",
    "plt.title('Average EMI Amount by Loan Type')\n",
    "plt.xticks(rotation=45)\n",
    "plt.show()\n",
    "\n",
    "# Bar plot for Default Rate by Loan Type\n",
    "plt.figure(figsize=(12, 6))\n",
    "sns.barplot(x='Loan_Purpose', y='Default_Rate', data=emi_trends, palette='Reds')\n",
    "plt.title('Default Rate by Loan Type')\n",
    "plt.xticks(rotation=45)\n",
    "plt.show()\n"
   ]
  },
  {
   "cell_type": "markdown",
   "id": "e7d38d27-0ad1-46b4-b09c-2d7e49581f21",
   "metadata": {},
   "source": [
    "9. Loan Application Insights \n",
    "● Calculate approval and rejection rates for loan applications. "
   ]
  },
  {
   "cell_type": "code",
   "execution_count": null,
   "id": "dfaf2691-c6f7-4bf9-8f91-e78845113531",
   "metadata": {},
   "outputs": [],
   "source": [
    "# Calculate total applications\n",
    "total_applications = len(df)\n",
    "\n",
    "# Calculate approved and rejected applications\n",
    "approved_count = (df['Approval_Status'] == 'Approved').sum()\n",
    "rejected_count = (df['Approval_Status'] == 'Rejected').sum()\n",
    "\n",
    "# Calculate rates\n",
    "approval_rate = (approved_count / total_applications) * 100\n",
    "rejection_rate = (rejected_count / total_applications) * 100\n",
    "\n",
    "print(f\"Total Applications: {total_applications}\")\n",
    "print(f\"Approval Rate: {approval_rate:.2f}%\")\n",
    "print(f\"Rejection Rate: {rejection_rate:.2f}%\")\n"
   ]
  },
  {
   "cell_type": "code",
   "execution_count": null,
   "id": "b73efc58-1962-43d5-9e11-5ebe00a727b4",
   "metadata": {},
   "outputs": [],
   "source": [
    "labels = ['Approved', 'Rejected']\n",
    "sizes = [approved_count, rejected_count]\n",
    "colors = ['#4CAF50', '#F44336']\n",
    "\n",
    "plt.figure(figsize=(6, 6))\n",
    "plt.pie(sizes, labels=labels, colors=colors, autopct='%.2f%%', startangle=140, wedgeprops={'edgecolor': 'black'})\n",
    "plt.title('Loan Application Approval vs Rejection Rates')\n",
    "plt.show()"
   ]
  },
  {
   "cell_type": "markdown",
   "id": "acc5d77c-c443-4530-b55e-de13d576af27",
   "metadata": {},
   "source": [
    " Identify the most common reasons for loan rejection."
   ]
  },
  {
   "cell_type": "code",
   "execution_count": null,
   "id": "16ecba6b-0a82-4f14-82a6-5114c51a0632",
   "metadata": {},
   "outputs": [],
   "source": [
    "# Filter rejected applications\n",
    "rejected_loans = df[df['Approval_Status'] == 'Rejected']\n",
    "\n",
    "# Possible factors linked to rejection\n",
    "rejection_factors = rejected_loans[['Credit_Score', 'Annual_Income', \n",
    "                                    'Employment_Status', 'Processing_Fee', \n",
    "                                    'Loan_Amount', 'Collateral_Details']].describe()\n",
    "\n",
    "\n",
    "# Add a column to explain possible rejection reasons\n",
    "rejected_loans['Potential_Rejection_Reason'] = np.where(rejected_loans['Credit_Score'] < 600, \n",
    "                                                        'Low Credit Score',\n",
    "                                               np.where(rejected_loans['Annual_Income'] < 200000, \n",
    "                                                        'Low Income',\n",
    "                                               np.where(rejected_loans['Employment_Status'] == 'Unemployed', \n",
    "                                                        'Unstable Employment',\n",
    "                                                        'Other Factors')))\n",
    "\n"
   ]
  },
  {
   "cell_type": "code",
   "execution_count": null,
   "id": "af9141ca-63f7-4c15-b11c-aa2ae7973500",
   "metadata": {},
   "outputs": [],
   "source": [
    "\n",
    "import seaborn as sns\n",
    "import matplotlib.pyplot as plt\n",
    "\n",
    "plt.figure(figsize=(8, 5))\n",
    "sns.countplot(x='Potential_Rejection_Reason', data=rejected_loans, order=rejected_loans['Potential_Rejection_Reason'].value_counts().index)\n",
    "plt.title('Common Rejection Reasons')\n",
    "plt.xticks(rotation=45)\n",
    "plt.show()\n"
   ]
  },
  {
   "cell_type": "markdown",
   "id": "f47c2341-2b9b-420b-b77b-bc28d067dd7a",
   "metadata": {},
   "source": [
    "● Compare application processing fees between approved and rejected \n",
    "applications. "
   ]
  },
  {
   "cell_type": "code",
   "execution_count": null,
   "id": "25ac0f3b-d062-4969-8313-ffe016637544",
   "metadata": {},
   "outputs": [],
   "source": [
    "import pandas as pd\n",
    "import seaborn as sns\n",
    "import matplotlib.pyplot as plt\n",
    "\n",
    "# Group by Approval Status and calculate average processing fees\n",
    "fee_comparison = df.groupby('Approval_Status')['Processing_Fee'].agg(['mean', 'median', 'max', 'min']).reset_index()\n",
    "print(fee_comparison)\n"
   ]
  },
  {
   "cell_type": "code",
   "execution_count": null,
   "id": "f612ce53-8cdc-4f7b-b25b-988f304d90be",
   "metadata": {},
   "outputs": [],
   "source": [
    "plt.figure(figsize=(8, 5))\n",
    "sns.boxplot(x='Approval_Status', y='Processing_Fee', data=df, palette='coolwarm')\n",
    "plt.title('Comparison of Processing Fees: Approved vs. Rejected Applications')\n",
    "plt.show()\n"
   ]
  },
  {
   "cell_type": "markdown",
   "id": "3c428e01-a793-441d-913c-71b1bbcbf483",
   "metadata": {},
   "source": [
    "10. Recovery Effectiveness \n",
    "● Determine the effectiveness of recovery efforts by calculating the ratio of \n",
    "Recovery_Amount to Default_Amount. "
   ]
  },
  {
   "cell_type": "code",
   "execution_count": null,
   "id": "378e789b-8bc4-420e-98cf-fdae7581602a",
   "metadata": {},
   "outputs": [],
   "source": [
    "# Calculate Recovery Rate\n",
    "df['Recovery_Rate'] = df['Recovery_Amount'] / df['Default_Amount']\n",
    "\n",
    "# Display key metrics\n",
    "recovery_summary = df[['Default_Amount', 'Recovery_Amount', 'Recovery_Rate']].describe()\n",
    "recovery_summary\n",
    "\n",
    "plt.figure(figsize=(8, 5))\n",
    "sns.histplot(df['Recovery_Rate'], bins=20, kde=True, color='skyblue')\n",
    "plt.title('Distribution of Recovery Rates')\n",
    "plt.xlabel('Recovery Rate')\n",
    "plt.ylabel('Frequency')\n",
    "plt.show()\n"
   ]
  },
  {
   "cell_type": "code",
   "execution_count": null,
   "id": "4d350ff2-dbe3-4cc0-83cb-1fc346851b52",
   "metadata": {},
   "outputs": [],
   "source": [
    "recovery_by_reason = df.groupby('Default_Reason')['Recovery_Rate'].mean().reset_index()\n",
    "\n",
    "plt.figure(figsize=(10, 5))\n",
    "sns.barplot(y='Recovery_Rate', x='Default_Reason', data=recovery_by_reason, palette='viridis')\n",
    "plt.title('Average Recovery Rate by Default Reason')\n",
    "plt.xlabel('Average Recovery Rate')\n",
    "plt.show()\n",
    "\n"
   ]
  },
  {
   "cell_type": "markdown",
   "id": "da2ef05e-d0e1-4c72-bc11-b634f2c6a606",
   "metadata": {},
   "source": [
    " Compare recovery rates for defaults with and without legal actions."
   ]
  },
  {
   "cell_type": "code",
   "execution_count": null,
   "id": "124aa008-3bd7-4eab-aa42-58cc731a9538",
   "metadata": {},
   "outputs": [],
   "source": [
    "# Calculate Recovery Rate\n",
    "df['Recovery_Rate'] = df['Recovery_Amount'] / df['Default_Amount']\n",
    "\n",
    "# Group by 'Legal_Action' and calculate mean recovery rates\n",
    "recovery_comparison = df.groupby('Legal_Action')['Recovery_Rate'].mean().reset_index()\n",
    "\n",
    "recovery_comparison\n",
    "\n",
    "plt.figure(figsize=(8, 5))\n",
    "sns.barplot(x='Legal_Action', y='Recovery_Rate', data=recovery_comparison, palette='coolwarm')\n",
    "plt.title('Comparison of Recovery Rates: With vs Without Legal Actions')\n",
    "plt.xlabel('Legal Action Status')\n",
    "plt.ylabel('Average Recovery Rate')\n",
    "plt.show()\n",
    "\n"
   ]
  },
  {
   "cell_type": "markdown",
   "id": "cc2f1be7-a827-4df0-834b-7171eedadc69",
   "metadata": {},
   "source": [
    " Analyze branch-wise recovery performance. "
   ]
  },
  {
   "cell_type": "code",
   "execution_count": null,
   "id": "7ff7422f-fa02-4e38-984a-6b122fcd352a",
   "metadata": {},
   "outputs": [],
   "source": [
    "# Calculate Recovery Rate\n",
    "df['Recovery_Rate'] = df['Recovery_Amount'] / df['Default_Amount']\n",
    "\n",
    "# Group by Branch_ID and calculate the average recovery rate\n",
    "branch_recovery = df.groupby('Branch_ID')['Recovery_Rate'].mean().reset_index()\n",
    "\n",
    "# Sort by Recovery Rate in descending order\n",
    "branch_recovery_sorted = branch_recovery.sort_values(by='Recovery_Rate', ascending=False)\n",
    "\n",
    "print(branch_recovery_sorted.head(10))  # Display top 10 branches with highest recovery rates\n",
    "\n",
    "plt.figure(figsize=(12, 6))\n",
    "sns.barplot(x='Branch_ID', y='Recovery_Rate', data=branch_recovery_sorted.head(10), palette='viridis')\n",
    "plt.title('Top 10 Branches by Recovery Performance')\n",
    "plt.xlabel('Branch ID')\n",
    "plt.ylabel('Average Recovery Rate')\n",
    "plt.xticks(rotation=45)\n",
    "plt.show()\n",
    "\n"
   ]
  },
  {
   "cell_type": "markdown",
   "id": "baf3d6b0-57d0-4a2a-b10f-61ce14e5f406",
   "metadata": {},
   "source": [
    "11. Loan Disbursement Efficiency "
   ]
  },
  {
   "cell_type": "markdown",
   "id": "67afce12-7f2f-4984-888f-75be48fb2a10",
   "metadata": {},
   "source": [
    " Analyze the time from application to loan disbursement and identify \n",
    "bottlenecks. "
   ]
  },
  {
   "cell_type": "code",
   "execution_count": null,
   "id": "d290453b-0013-4106-bce4-dc864df106d1",
   "metadata": {},
   "outputs": [],
   "source": [
    "# Convert date columns to datetime format\n",
    "df['Application_Date'] = pd.to_datetime(df['Application_Date'])\n",
    "df['Disbursal_Date'] = pd.to_datetime(df['Disbursal_Date'])\n",
    "\n",
    "# Calculate Processing Time (in days)\n",
    "df['Processing_Time'] = (df['Disbursal_Date'] - df['Application_Date']).dt.days\n",
    "\n",
    "# Display the first few rows to verify\n",
    "print(df[['Application_ID', 'Application_Date', 'Disbursal_Date', 'Processing_Time']].head())\n",
    "\n",
    "# Calculate average processing time for each branch\n",
    "branch_processing_time = df.groupby('Branch_ID')['Processing_Time'].mean().reset_index()\n",
    "\n",
    "# Sort by highest processing time\n",
    "branch_processing_sorted = branch_processing_time.sort_values(by='Processing_Time', ascending=False)\n",
    "\n",
    "print(branch_processing_sorted.head(10))  # Display top 10 slowest branches\n",
    "\n",
    "plt.figure(figsize=(12, 6))\n",
    "sns.barplot(x='Branch_ID', y='Processing_Time', data=branch_processing_sorted.head(10), palette='Reds')\n",
    "plt.title('Top 10 Branches with Longest Processing Times')\n",
    "plt.xlabel('Branch ID')\n",
    "plt.ylabel('Average Processing Time (Days)')\n",
    "plt.xticks(rotation=45)\n",
    "plt.show()\n",
    "\n"
   ]
  },
  {
   "cell_type": "markdown",
   "id": "99d39e9c-31c2-4e8b-8b47-ba2954a2d977",
   "metadata": {},
   "source": [
    " Compare average processing times across branches."
   ]
  },
  {
   "cell_type": "code",
   "execution_count": null,
   "id": "fef976cc-9869-40dd-a0ab-8662b7080094",
   "metadata": {},
   "outputs": [],
   "source": [
    "# Convert date columns to datetime format\n",
    "df['Application_Date'] = pd.to_datetime(df['Application_Date'])\n",
    "df['Disbursal_Date'] = pd.to_datetime(df['Disbursal_Date'])\n",
    "\n",
    "# Calculate Processing Time (in days)\n",
    "df['Processing_Time'] = (df['Disbursal_Date'] - df['Application_Date']).dt.days\n",
    "\n",
    "# Calculate average processing time for each branch\n",
    "branch_processing_time = df.groupby('Branch_ID')['Processing_Time'].mean().reset_index()\n",
    "\n",
    "# Sort the data to view highest and lowest processing times\n",
    "branch_processing_time_sorted = branch_processing_time.sort_values(by='Processing_Time', ascending=False)\n",
    "\n",
    "branch_processing_time_sorted\n",
    "\n",
    "plt.figure(figsize=(12, 6))\n",
    "sns.barplot(x='Branch_ID', y='Processing_Time', data=branch_processing_time_sorted, palette='viridis')\n",
    "plt.title('Average Processing Time Across Branches')\n",
    "plt.xlabel('Branch ID')\n",
    "plt.ylabel('Average Processing Time (Days)')\n",
    "plt.xticks(rotation=45)\n",
    "plt.show()\n",
    "\n"
   ]
  },
  {
   "cell_type": "markdown",
   "id": "ac1e05b6-6d78-45eb-bea6-7fac544a7bf5",
   "metadata": {},
   "source": [
    "12. Profitability Analysis "
   ]
  },
  {
   "cell_type": "markdown",
   "id": "39eb1665-7ad2-4514-a7a3-9dbf94db1cae",
   "metadata": {},
   "source": [
    "● Calculate the total interest income generated across all loans. "
   ]
  },
  {
   "cell_type": "code",
   "execution_count": null,
   "id": "a37a3b26-0b88-4df8-bcc2-6036f3363249",
   "metadata": {},
   "outputs": [],
   "source": [
    "# Ensure data types are correct\n",
    "df['Loan_Amount'] = pd.to_numeric(df['Loan_Amount'], errors='coerce')\n",
    "df['Interest_Rate'] = pd.to_numeric(df['Interest_Rate'], errors='coerce')\n",
    "df['Loan_Term'] = pd.to_numeric(df['Loan_Term'], errors='coerce')\n",
    "\n",
    "# Calculate Interest Income for each loan\n",
    "df['Interest_Income'] = df['Loan_Amount'] * (df['Interest_Rate'] / 100) * (df['Loan_Term'] / 12)\n",
    "\n",
    "# Calculate total interest income\n",
    "total_interest_income = df['Interest_Income'].sum()\n",
    "\n",
    "print(f\"Total Interest Income Generated: ₹{total_interest_income:,.2f}\")\n"
   ]
  },
  {
   "cell_type": "markdown",
   "id": "141a0518-3fae-4f33-b38f-af008fbfbbf7",
   "metadata": {},
   "source": [
    "● Identify the most profitable loan purposes based on interest earnings. "
   ]
  },
  {
   "cell_type": "code",
   "execution_count": null,
   "id": "fe225f9f-5b83-4a4d-9bed-5b1264f9fff1",
   "metadata": {},
   "outputs": [],
   "source": [
    "# Step 1: Calculate Interest Income\n",
    "df['Interest_Income'] = (df['Loan_Amount'] * df['Interest_Rate'] * df['Loan_Term']) / 12\n",
    "\n",
    "# Step 2: Aggregate by Loan Purpose\n",
    "profit_by_purpose = df.groupby('Loan_Purpose')['Interest_Income'].sum().reset_index()\n",
    "\n",
    "# Step 3: Sort and Display Top Profitable Loan Purposes\n",
    "top_profitable_purposes = profit_by_purpose.sort_values(by='Interest_Income', ascending=False)\n",
    "\n",
    "# Display Top 5\n",
    "print(top_profitable_purposes.head(5))\n",
    "\n",
    "# Visualization\n",
    "import matplotlib.pyplot as plt\n",
    "import seaborn as sns\n",
    "\n",
    "plt.figure(figsize=(10, 6))\n",
    "sns.barplot(y='Interest_Income', x='Loan_Purpose', data=top_profitable_purposes.head(10), palette='viridis')\n",
    "plt.title('Top 10 Most Profitable Loan Purposes')\n",
    "plt.xlabel('Total Interest Income')\n",
    "plt.ylabel('Loan Purpose')\n",
    "plt.show()\n"
   ]
  },
  {
   "cell_type": "markdown",
   "id": "d7b059bb-0dc9-474c-820b-5c4000a52486",
   "metadata": {},
   "source": [
    "● Compare profitability metrics for branches across regions."
   ]
  },
  {
   "cell_type": "code",
   "execution_count": null,
   "id": "c9f86a6d-ce89-4a35-b051-edc73b56bd5d",
   "metadata": {},
   "outputs": [],
   "source": [
    "import pandas as pd\n",
    "import matplotlib.pyplot as plt\n",
    "import seaborn as sns\n",
    "\n",
    "# Step 1: Calculate Profitability (Interest Income)\n",
    "df['Interest_Income'] = (df['Loan_Amount'] * df['Interest_Rate'] * df['Loan_Term']) / 12\n",
    "\n",
    "# Step 2: Aggregate Profitability by Branch and Region\n",
    "profit_by_branch = df.groupby(['Branch_ID', 'Region'])['Interest_Income'].sum().reset_index()\n",
    "\n",
    "# Step 3: Visualizing Profitability Across Branches\n",
    "plt.figure(figsize=(12, 6))\n",
    "sns.barplot(x='Branch_ID', y='Interest_Income', hue='Region', data=profit_by_branch)\n",
    "plt.title('Branch-Wise Profitability Across Regions')\n",
    "plt.xlabel('Branch ID')\n",
    "plt.ylabel('Total Interest Income')\n",
    "plt.legend(title='Region')\n",
    "plt.xticks(rotation=45)\n",
    "plt.show()\n",
    "\n",
    "# Step 4: Regional Summary (Optional)\n",
    "profit_by_region = profit_by_branch.groupby('Region')['Interest_Income'].sum().reset_index()\n",
    "\n",
    "plt.figure(figsize=(8, 5))\n",
    "sns.barplot(x='Region', y='Interest_Income', data=profit_by_region, palette='coolwarm')\n",
    "plt.title('Total Profitability by Region')\n",
    "plt.xlabel('Region')\n",
    "plt.ylabel('Total Interest Income')\n",
    "plt.show()\n"
   ]
  },
  {
   "cell_type": "markdown",
   "id": "4f73af7e-675a-45d5-8133-d547e52e716d",
   "metadata": {},
   "source": [
    "13. Geospatial Analysis"
   ]
  },
  {
   "cell_type": "markdown",
   "id": "997dd152-d20f-4666-9143-450e59997750",
   "metadata": {},
   "source": [
    "● Map the distribution of active loans across regions. "
   ]
  },
  {
   "cell_type": "code",
   "execution_count": null,
   "id": "fd1200d9-290a-4a3a-b42c-9acfb78a77d8",
   "metadata": {},
   "outputs": [],
   "source": [
    "import pandas as pd\n",
    "import matplotlib.pyplot as plt\n",
    "import seaborn as sns\n",
    "\n",
    "# Step 1: Filter active loans\n",
    "active_loans = df[df['Loan_Status'] == 'Active']\n",
    "\n",
    "# Step 2: Group by Region and count active loans\n",
    "active_loans_by_region = active_loans.groupby('Region')['Loan_ID_x'].count().reset_index()\n",
    "active_loans_by_region.rename(columns={'Loan_ID_x': 'Active_Loan_Count'}, inplace=True)\n",
    "\n",
    "# Step 3: Visualizing Active Loans Distribution\n",
    "plt.figure(figsize=(10, 6))\n",
    "sns.barplot(x='Region', y='Active_Loan_Count', data=active_loans_by_region, palette='Blues_d')\n",
    "plt.title('Distribution of Active Loans Across Regions')\n",
    "plt.xlabel('Region')\n",
    "plt.ylabel('Number of Active Loans')\n",
    "plt.show()\n"
   ]
  },
  {
   "cell_type": "markdown",
   "id": "32e0c3af-0ffa-4211-929f-22f3ffd61487",
   "metadata": {},
   "source": [
    "● Compare default rates across different geographic regions. "
   ]
  },
  {
   "cell_type": "code",
   "execution_count": null,
   "id": "9c03358e-d311-43f3-babb-7ea60dbebd47",
   "metadata": {},
   "outputs": [],
   "source": [
    "import pandas as pd\n",
    "import matplotlib.pyplot as plt\n",
    "import seaborn as sns\n",
    "\n",
    "# Step 1: Data Preparation\n",
    "default_data = df[['Region', 'Loan_ID_x', 'Default_Flag']]\n",
    "\n",
    "# Step 2: Calculate total loans and defaulted loans by region\n",
    "region_defaults = default_data.groupby('Region').agg(\n",
    "    Total_Loans=('Loan_ID_x', 'count'),\n",
    "    Defaulted_Loans=('Default_Flag', 'sum')\n",
    ").reset_index()\n",
    "\n",
    "# Step 3: Calculate default rate\n",
    "region_defaults['Default_Rate (%)'] = (region_defaults['Defaulted_Loans'] / \n",
    "                                       region_defaults['Total_Loans']) * 100\n",
    "\n",
    "# Step 4: Visualize the results\n",
    "plt.figure(figsize=(10, 6))\n",
    "sns.barplot(x='Region', y='Default_Rate (%)', data=region_defaults, palette='Reds')\n",
    "plt.title('Default Rates Across Geographic Regions')\n",
    "plt.xlabel('Region')\n",
    "plt.ylabel('Default Rate (%)')\n",
    "plt.show()\n",
    "\n",
    "# Display the table for reference\n",
    "print(region_defaults)\n"
   ]
  },
  {
   "cell_type": "markdown",
   "id": "c120e3eb-197c-44cd-9acd-6fe6a6a9a2a5",
   "metadata": {},
   "source": [
    "● Visualize the loan disbursement trends for rural vs. urban areas. "
   ]
  },
  {
   "cell_type": "code",
   "execution_count": null,
   "id": "dfda6c30-3909-467e-a4f2-30fc812a93e8",
   "metadata": {},
   "outputs": [],
   "source": [
    "import pandas as pd\n",
    "import matplotlib.pyplot as plt\n",
    "\n",
    "# Step 1: Data Preparation\n",
    "df['Disbursal_Date'] = pd.to_datetime(df['Disbursal_Date'])  # Ensure date format is correct\n",
    "\n",
    "# Step 2: Filter and Group Data\n",
    "rural_data = df[df['Region'] == 'Rural'].groupby(pd.Grouper(key='Disbursal_Date', freq='M'))['Loan_Disbursement_Amount'].sum()\n",
    "urban_data = df[df['Region'] == 'Urban'].groupby(pd.Grouper(key='Disbursal_Date', freq='M'))['Loan_Disbursement_Amount'].sum()\n",
    "\n",
    "# Step 3: Visualization\n",
    "plt.figure(figsize=(12, 6))\n",
    "plt.plot(rural_data.index, rural_data, label='Rural', marker='o')\n",
    "plt.plot(urban_data.index, urban_data, label='Urban', marker='o')\n",
    "plt.title('Loan Disbursement Trends: Rural vs. Urban')\n",
    "plt.xlabel('Time (Monthly)')\n",
    "plt.ylabel('Loan Disbursement Amount')\n",
    "plt.legend()\n",
    "plt.grid(True)\n",
    "plt.show()\n"
   ]
  },
  {
   "cell_type": "markdown",
   "id": "6a841ceb-49f0-4036-8e3e-a160176f14ff",
   "metadata": {},
   "source": [
    "14. Default Trends "
   ]
  },
  {
   "cell_type": "markdown",
   "id": "9e5177ca-8002-4580-a17e-b38253a4ec17",
   "metadata": {},
   "source": [
    " Analyze the number of defaults over time to identify patterns. "
   ]
  },
  {
   "cell_type": "code",
   "execution_count": null,
   "id": "93af2453-84f1-4c99-b5aa-b752f9a1feb0",
   "metadata": {},
   "outputs": [],
   "source": [
    "import pandas as pd\n",
    "import matplotlib.pyplot as plt\n",
    "\n",
    "# Ensure the Default_Date column is in proper datetime format\n",
    "df['Default_Date'] = pd.to_datetime(df['Default_Date'], errors='coerce')\n",
    "\n",
    "# Group by month to track trends\n",
    "monthly_defaults = df[df['Default_Flag'] == 1].groupby(pd.Grouper(key='Default_Date', freq='M')).size()\n",
    "\n",
    "# Group by year if a broader view is required\n",
    "yearly_defaults = df[df['Default_Flag'] == 1].groupby(pd.Grouper(key='Default_Date', freq='Y')).size()"
   ]
  },
  {
   "cell_type": "code",
   "execution_count": null,
   "id": "155818be-b800-4c11-94bc-2a22afc57aa7",
   "metadata": {},
   "outputs": [],
   "source": [
    "plt.figure(figsize=(12, 6))\n",
    "\n",
    "# Monthly Defaults Plot\n",
    "plt.plot(monthly_defaults.index, monthly_defaults, marker='o', label='Monthly Defaults', color='red')\n",
    "\n",
    "# Yearly Defaults Plot (Optional)\n",
    "plt.plot(yearly_defaults.index, yearly_defaults, marker='o', linestyle='--', label='Yearly Defaults', color='blue')\n",
    "\n",
    "plt.title('Default Trends Over Time')\n",
    "plt.xlabel('Time Period')\n",
    "plt.ylabel('Number of Defaults')\n",
    "plt.legend()\n",
    "plt.grid(True)\n",
    "plt.show()\n"
   ]
  },
  {
   "cell_type": "markdown",
   "id": "abfe315c-7850-4a6e-acd1-cad49d6eedef",
   "metadata": {},
   "source": [
    "● Calculate the average default amount for different loan purposes. "
   ]
  },
  {
   "cell_type": "code",
   "execution_count": null,
   "id": "e5bc363c-fe76-4bef-b11d-61a78decb72e",
   "metadata": {},
   "outputs": [],
   "source": [
    "import pandas as pd\n",
    "\n",
    "# Grouping by 'Loan_Purpose' and calculating the average default amount\n",
    "avg_default_by_purpose = df.groupby('Loan_Purpose')['Default_Amount'].mean().reset_index()\n",
    "\n",
    "# Sorting by highest average default amount\n",
    "avg_default_by_purpose_sorted = avg_default_by_purpose.sort_values(by='Default_Amount', ascending=False)\n",
    "\n",
    "# Display the top 10 loan purposes with the highest average default amounts\n",
    "print(avg_default_by_purpose_sorted.head(10))\n",
    "\n",
    "import matplotlib.pyplot as plt\n",
    "import seaborn as sns\n",
    "\n",
    "plt.figure(figsize=(12, 6))\n",
    "sns.barplot(y='Default_Amount', x='Loan_Purpose', data=avg_default_by_purpose_sorted.head(10), palette='Reds')\n",
    "plt.title('Top 10 Loan Purposes with Highest Average Default Amounts')\n",
    "plt.xlabel('Average Default Amount')\n",
    "plt.ylabel('Loan Purpose')\n",
    "plt.show()\n",
    "\n"
   ]
  },
  {
   "cell_type": "markdown",
   "id": "f0a33859-5b5e-4699-8bbf-082be2605795",
   "metadata": {},
   "source": [
    "● Compare default rates across customer income categories. "
   ]
  },
  {
   "cell_type": "code",
   "execution_count": null,
   "id": "e0044d8f-5245-4d82-8a97-92520e92fc57",
   "metadata": {},
   "outputs": [],
   "source": [
    "import pandas as pd\n",
    "\n",
    "# Creating income categories\n",
    "income_bins = [0, 30000, 60000, 100000, 200000, 500000, float('inf')]\n",
    "income_labels = ['<30K', '30K-60K', '60K-100K', '100K-200K', '200K-500K', '500K+']\n",
    "\n",
    "# Adding an 'Income_Category' column\n",
    "df['Income_Category'] = pd.cut(df['Annual_Income'], bins=income_bins, labels=income_labels)\n",
    "\n",
    "# Calculating default rates for each income category\n",
    "default_rates_by_income = df.groupby('Income_Category')['Default_Flag'].mean().reset_index()\n",
    "\n",
    "print(default_rates_by_income)\n",
    "\n",
    "import matplotlib.pyplot as plt\n",
    "import seaborn as sns\n",
    "\n",
    "plt.figure(figsize=(10, 6))\n",
    "sns.barplot(x='Income_Category', y='Default_Flag', data=default_rates_by_income, palette='Blues')\n",
    "plt.title('Default Rates Across Income Categories')\n",
    "plt.xlabel('Income Category')\n",
    "plt.ylabel('Default Rate')\n",
    "plt.show()\n",
    "\n"
   ]
  },
  {
   "cell_type": "markdown",
   "id": "94c20f10-44cc-4488-a7ec-f4cfd53bbdda",
   "metadata": {},
   "source": [
    "15. Branch Efficiency "
   ]
  },
  {
   "cell_type": "markdown",
   "id": "2d1e8acc-6669-4906-b45f-d5f75da4b44c",
   "metadata": {},
   "source": [
    "● Calculate the average loan disbursement time for each branch. "
   ]
  },
  {
   "cell_type": "code",
   "execution_count": null,
   "id": "9a82214d-c4eb-4bdd-b3fe-c844095dbbbf",
   "metadata": {},
   "outputs": [],
   "source": [
    "import pandas as pd\n",
    "\n",
    "# Ensure date columns are in datetime format\n",
    "df['Application_Date'] = pd.to_datetime(df['Application_Date'])\n",
    "df['Disbursal_Date'] = pd.to_datetime(df['Disbursal_Date'])\n",
    "\n",
    "# Calculate disbursement time in days\n",
    "df['Disbursement_Time'] = (df['Disbursal_Date'] - df['Application_Date']).dt.days\n",
    "\n",
    "# Calculate average disbursement time for each branch\n",
    "avg_disbursement_time = df.groupby('Branch_ID')['Disbursement_Time'].mean().reset_index()\n",
    "\n",
    "avg_disbursement_time\n"
   ]
  },
  {
   "cell_type": "code",
   "execution_count": null,
   "id": "0fd05417-308f-4711-9766-ad9e7e3e768a",
   "metadata": {},
   "outputs": [],
   "source": [
    "import matplotlib.pyplot as plt\n",
    "import seaborn as sns\n",
    "\n",
    "plt.figure(figsize=(10, 6))\n",
    "sns.barplot(x='Branch_ID', y='Disbursement_Time', data=avg_disbursement_time.sort_values('Disbursement_Time'), palette='coolwarm')\n",
    "plt.title('Average Loan Disbursement Time by Branch')\n",
    "plt.xlabel('Branch ID')\n",
    "plt.ylabel('Average Disbursement Time (Days)')\n",
    "plt.xticks(rotation=45)\n",
    "plt.show()\n"
   ]
  },
  {
   "cell_type": "markdown",
   "id": "8e4bfc32-0e8f-4d3c-8f3b-dfbb9f42edb0",
   "metadata": {},
   "source": [
    "● Identify branches with the highest number of rejected applications."
   ]
  },
  {
   "cell_type": "code",
   "execution_count": null,
   "id": "e20e02bc-e8cd-4ff2-904e-0ba2a6daf09b",
   "metadata": {},
   "outputs": [],
   "source": [
    "# Filter rejected applications\n",
    "rejected_apps = df[df['Approval_Status'] == 'Rejected']\n",
    "\n",
    "# Count the number of rejections for each branch\n",
    "branch_rejections = rejected_apps.groupby('Branch_ID').size().reset_index(name='Rejection_Count')\n",
    "\n",
    "# Sort branches by rejection count (highest first)\n",
    "top_rejected_branches = branch_rejections.sort_values('Rejection_Count', ascending=False).head(10)\n",
    "\n",
    "top_rejected_branches\n",
    "\n",
    "import matplotlib.pyplot as plt\n",
    "import seaborn as sns\n",
    "\n",
    "plt.figure(figsize=(10, 6))\n",
    "sns.barplot(x='Branch_ID', y='Rejection_Count', data=top_rejected_branches, palette='Reds')\n",
    "plt.title('Top 10 Branches with Highest Rejected Applications')\n",
    "plt.xlabel('Branch ID')\n",
    "plt.ylabel('Number of Rejected Applications')\n",
    "plt.xticks(rotation=45)\n",
    "plt.show()\n",
    "\n"
   ]
  },
  {
   "cell_type": "markdown",
   "id": "43c3e0ba-9ee7-4a21-8ac2-1595a6889214",
   "metadata": {},
   "source": [
    "● Compare branch efficiency based on customer satisfaction metrics (if \n",
    "available)."
   ]
  },
  {
   "cell_type": "code",
   "execution_count": null,
   "id": "215b463d-f22b-4c52-a757-edd97f867c01",
   "metadata": {},
   "outputs": [],
   "source": [
    "# Calculate branch efficiency metrics\n",
    "branch_efficiency = df.groupby('Branch_ID').agg({\n",
    "    'Avg_Processing_Time': 'mean',\n",
    "    'Loan_Disbursement_Amount': 'sum',\n",
    "    'Delinquent_Loans': 'sum',\n",
    "    'Recovery_Amount': 'sum',\n",
    "    'Default_Amount': 'sum'\n",
    "}).reset_index()\n",
    "\n",
    "# Add recovery rate column\n",
    "branch_efficiency['Recovery_Rate'] = branch_efficiency['Recovery_Amount'] / branch_efficiency['Default_Amount']\n",
    "\n",
    "# Sort by Avg_Processing_Time to identify fastest branches\n",
    "fastest_branches = branch_efficiency.sort_values('Avg_Processing_Time').head(10)\n",
    "\n",
    "fastest_branches\n",
    "\n",
    "plt.figure(figsize=(10, 6))\n",
    "sns.barplot(x='Branch_ID', y='Avg_Processing_Time', data=fastest_branches, palette='Blues')\n",
    "plt.title('Top 10 Branches by Processing Efficiency')\n",
    "plt.xlabel('Branch ID')\n",
    "plt.ylabel('Average Processing Time (Days)')\n",
    "plt.xticks(rotation=45)\n",
    "plt.show()\n"
   ]
  },
  {
   "cell_type": "code",
   "execution_count": null,
   "id": "cc39f89d-4400-4351-92af-bff1d9e3d891",
   "metadata": {},
   "outputs": [],
   "source": [
    "top_recovery_branches = branch_efficiency.sort_values('Recovery_Rate', ascending=False).head(10)\n",
    "\n",
    "plt.figure(figsize=(10, 6))\n",
    "sns.barplot(x='Branch_ID', y='Recovery_Rate', data=top_recovery_branches, palette='Greens')\n",
    "plt.title('Top 10 Branches by Recovery Rates')\n",
    "plt.xlabel('Branch ID')\n",
    "plt.ylabel('Recovery Rate')\n",
    "plt.xticks(rotation=45)\n",
    "plt.show()\n"
   ]
  },
  {
   "cell_type": "markdown",
   "id": "b3aef6fe-9d72-408f-9444-6f27c2e3327c",
   "metadata": {},
   "source": [
    "16. Time-Series Analysis "
   ]
  },
  {
   "cell_type": "markdown",
   "id": "22727701-5710-4d9e-b9ee-2b16f01f3696",
   "metadata": {},
   "source": [
    "● Analyze monthly loan disbursement trends over the last 5 years. "
   ]
  },
  {
   "cell_type": "code",
   "execution_count": null,
   "id": "141b5983-df2b-4e9e-aab6-dc30663a0db2",
   "metadata": {},
   "outputs": [],
   "source": [
    "print(df[['Disbursal_Date', 'Loan_Disbursement_Amount']].dtypes)\n",
    "\n",
    "df['Disbursal_Date'] = pd.to_datetime(df['Disbursal_Date'], errors='coerce')\n",
    "\n",
    "df['Loan_Disbursement_Amount'] = pd.to_numeric(df['Loan_Disbursement_Amount'], errors='coerce')\n",
    "\n",
    "last_5_years = df[df['Disbursal_Date'] >= pd.to_datetime('today') - pd.DateOffset(years=5)]\n",
    "\n",
    "last_5_years['Year_Month'] = last_5_years['Disbursal_Date'].dt.to_period('M')\n",
    "\n",
    "monthly_disbursement = last_5_years.groupby('Year_Month')['Loan_Disbursement_Amount'].sum().reset_index()\n",
    "\n",
    "plt.figure(figsize=(12, 6))\n",
    "sns.lineplot(x='Year_Month', y='Loan_Disbursement_Amount', data=monthly_disbursement, marker='o', color='blue')\n",
    "plt.title('Monthly Loan Disbursement Trends (Last 5 Years)')\n",
    "plt.xlabel('Year-Month')\n",
    "plt.ylabel('Loan Disbursement Amount')\n",
    "plt.xticks(rotation=45)\n",
    "plt.grid(True)\n",
    "plt.show()"
   ]
  },
  {
   "cell_type": "markdown",
   "id": "f631e99d-cc96-4855-8e17-c450c621262e",
   "metadata": {},
   "source": [
    "● Compare monthly default rates across regions. "
   ]
  },
  {
   "cell_type": "code",
   "execution_count": null,
   "id": "ec58775f-de43-4ed8-a161-64307edb2378",
   "metadata": {},
   "outputs": [],
   "source": [
    "# Convert 'Disbursal_Date' to datetime\n",
    "df['Disbursal_Date'] = pd.to_datetime(df['Disbursal_Date'], errors='coerce')\n",
    "\n",
    "# Filter valid data (optional but useful)\n",
    "df = df.dropna(subset=['Disbursal_Date', 'Region', 'Default_Flag'])\n",
    "\n",
    "# Create 'Year_Month' column for grouping\n",
    "df['Year_Month'] = df['Disbursal_Date'].dt.to_period('M')\n"
   ]
  },
  {
   "cell_type": "code",
   "execution_count": null,
   "id": "e31317f0-7f48-462d-be5d-245ecc5c1775",
   "metadata": {},
   "outputs": [],
   "source": [
    "# Group by Year_Month and Region\n",
    "monthly_defaults = df.groupby(['Year_Month', 'Region']).agg(\n",
    "    Total_Loans=('Loan_ID_x', 'count'),\n",
    "    Defaults=('Default_Flag', 'sum')\n",
    ").reset_index()\n",
    "\n",
    "# Calculate Default Rate\n",
    "monthly_defaults['Default_Rate'] = (monthly_defaults['Defaults'] / \n",
    "                                    monthly_defaults['Total_Loans']) * 100\n"
   ]
  },
  {
   "cell_type": "code",
   "execution_count": null,
   "id": "409d26c0-37c8-4f43-bfbd-2ae59169f14a",
   "metadata": {},
   "outputs": [],
   "source": [
    "plt.figure(figsize=(12, 6))\n",
    "sns.lineplot(x='Year_Month', y='Default_Rate', hue='Region', data=monthly_defaults, marker='o')\n",
    "plt.title('Monthly Default Rates Across Regions')\n",
    "plt.xlabel('Year-Month')\n",
    "plt.ylabel('Default Rate (%)')\n",
    "plt.xticks(rotation=45)\n",
    "plt.legend(title='Region')\n",
    "plt.grid(True)\n",
    "plt.show()\n"
   ]
  },
  {
   "cell_type": "markdown",
   "id": "c7b2f3c4-a92b-4132-9c61-56aba049d95a",
   "metadata": {},
   "source": [
    "● Identify seasonal patterns in loan applications and disbursements."
   ]
  },
  {
   "cell_type": "code",
   "execution_count": null,
   "id": "fa00de82-cef6-4a9a-b061-28b707edf585",
   "metadata": {},
   "outputs": [],
   "source": [
    "# Convert dates to datetime format\n",
    "df['Application_Date'] = pd.to_datetime(df['Application_Date'], errors='coerce')\n",
    "df['Disbursal_Date'] = pd.to_datetime(df['Disbursal_Date'], errors='coerce')\n",
    "\n",
    "# Drop rows with missing dates (optional)\n",
    "df = df.dropna(subset=['Application_Date', 'Disbursal_Date'])\n",
    "\n",
    "# Create columns for Month and Year\n",
    "df['Application_Month'] = df['Application_Date'].dt.month\n",
    "df['Application_Year'] = df['Application_Date'].dt.year\n",
    "\n",
    "df['Disbursal_Month'] = df['Disbursal_Date'].dt.month\n",
    "df['Disbursal_Year'] = df['Disbursal_Date'].dt.year\n",
    "\n",
    "# Grouping by Month\n",
    "monthly_trends = df.groupby('Application_Month').agg(\n",
    "    Total_Applications=('Application_ID', 'count'),\n",
    "    Total_Disbursed=('Loan_ID_x', 'count')\n",
    ").reset_index()\n",
    "\n",
    "plt.figure(figsize=(12, 6))\n",
    "sns.lineplot(x='Application_Month', y='Total_Applications', data=monthly_trends, marker='o', label=\"Applications\")\n",
    "sns.lineplot(x='Application_Month', y='Total_Disbursed', data=monthly_trends, marker='s', label=\"Disbursements\")\n",
    "\n",
    "plt.title(\"Seasonal Trends in Loan Applications and Disbursements\")\n",
    "plt.xlabel(\"Month\")\n",
    "plt.ylabel(\"Count\")\n",
    "plt.xticks(range(1, 13), [\"Jan\", \"Feb\", \"Mar\", \"Apr\", \"May\", \"Jun\", \"Jul\", \"Aug\", \"Sep\", \"Oct\", \"Nov\", \"Dec\"])\n",
    "plt.legend()\n",
    "plt.grid(True)\n",
    "plt.show()\n"
   ]
  },
  {
   "cell_type": "markdown",
   "id": "8c072bdb-864a-433c-94f1-bde4b4ebc78a",
   "metadata": {},
   "source": [
    "17. Customer Behavior Analysis "
   ]
  },
  {
   "cell_type": "markdown",
   "id": "531fedeb-7ac2-4efa-9d69-459e148e8f15",
   "metadata": {},
   "source": [
    "● Categorize customers based on their repayment behavior (e.g., always on \n",
    "time, occasional defaulters, frequent defaulters). "
   ]
  },
  {
   "cell_type": "code",
   "execution_count": null,
   "id": "66ec0b84-ae44-4fac-bd13-a72d872f1934",
   "metadata": {},
   "outputs": [],
   "source": [
    "# Group data by Customer_ID and calculate repayment behavior\n",
    "customer_repayment = df.groupby('Customer_ID').agg(\n",
    "    Total_Loans=('Loan_ID_x', 'count'),\n",
    "    Total_Defaults=('Default_Flag', 'sum'),\n",
    "    Total_Overdue_Amount=('Overdue_Amount', 'sum'),\n",
    "    Total_On_Time_Payments=('On_Time_Payment', 'sum')\n",
    ").reset_index()\n",
    "\n",
    "# Function to categorize repayment behavior\n",
    "def categorize_repayment(row):\n",
    "    if row['Total_Defaults'] == 0:\n",
    "        return 'Always On Time'\n",
    "    elif row['Total_Defaults'] > 0 and row['Total_Defaults'] < 3:\n",
    "        return 'Occasional Defaulter'\n",
    "    else:\n",
    "        return 'Frequent Defaulter'\n",
    "\n",
    "# Apply categorization function\n",
    "customer_repayment['Repayment_Behavior'] = customer_repayment.apply(categorize_repayment, axis=1)\n",
    "\n",
    "plt.figure(figsize=(8, 5))\n",
    "sns.countplot(x='Repayment_Behavior', data=customer_repayment, palette=\"coolwarm\")\n",
    "\n",
    "plt.title(\"Customer Segmentation Based on Repayment Behavior\")\n",
    "plt.xlabel(\"Repayment Behavior\")\n",
    "plt.ylabel(\"Number of Customers\")\n",
    "plt.show()\n"
   ]
  },
  {
   "cell_type": "markdown",
   "id": "7d659655-93ed-46e9-8fc2-9fa81305c5f0",
   "metadata": {},
   "source": [
    "● Analyze patterns in loan approval and rejection reasons segmented by \n",
    "customer demographics. "
   ]
  },
  {
   "cell_type": "code",
   "execution_count": null,
   "id": "f6316772-a363-43e3-b2bf-726ebb171596",
   "metadata": {},
   "outputs": [],
   "source": [
    "# Grouping by customer demographics\n",
    "approval_rejection_analysis = df.groupby(['Age', 'Annual_Income', 'Credit_Score', 'Employment_Status']).agg(\n",
    "    Total_Applications=('Application_ID', 'count'),\n",
    "    Approved_Applications=('Approval_Status', lambda x: (x == 'Approved').sum()),\n",
    "    Rejected_Applications=('Approval_Status', lambda x: (x == 'Rejected').sum())\n",
    ").reset_index()\n",
    "\n",
    "# Calculate approval and rejection rates\n",
    "approval_rejection_analysis['Approval_Rate'] = approval_rejection_analysis['Approved_Applications'] / approval_rejection_analysis['Total_Applications']\n",
    "approval_rejection_analysis['Rejection_Rate'] = approval_rejection_analysis['Rejected_Applications'] / approval_rejection_analysis['Total_Applications']\n",
    "\n",
    "df_rejected = df[df['Approval_Status'] == 'Rejected']\n",
    "print(df_rejected.head())  # Check if the subset contains rejection reasons\n",
    "\n",
    "# Replace 'Rejection_Reason' with the correct column name\n",
    "correct_column_name = 'Reason_For_Rejection'  # Change this based on Step 1 results\n",
    "\n",
    "print(df['Approval_Status'].unique())  # Check the unique values\n",
    "\n",
    "df_rejected = df[df['Approval_Status'] == 'Rejected']\n",
    "print(df_rejected.head())  # Preview rejected applications\n",
    "\n",
    "df_rejected['Rejection_Reason'] = df_rejected.apply(lambda row: \n",
    "    \"Low Credit Score\" if row['Credit_Score'] < 600 else\n",
    "    \"High Debt-to-Income Ratio\" if (row['EMI_Amount'] / row['Annual_Income']) > 0.4 else\n",
    "    \"Insufficient Income\" if row['Annual_Income'] < row['Loan_Amount'] else\n",
    "    \"Other\",\n",
    "    axis=1\n",
    ")\n",
    "rejection_counts = df_rejected['Rejection_Reason'].value_counts()\n",
    "print(rejection_counts)"
   ]
  },
  {
   "cell_type": "markdown",
   "id": "d62bfced-617f-4c34-9e42-bbcee33ec3fd",
   "metadata": {},
   "source": [
    "● Identify high-value customers with consistent repayment histories. "
   ]
  },
  {
   "cell_type": "code",
   "execution_count": null,
   "id": "b594855a-72d1-4fb2-9042-bc53d24a5734",
   "metadata": {},
   "outputs": [],
   "source": [
    "# Define the threshold for high-value customers\n",
    "high_loan_threshold = df['Loan_Amount'].quantile(0.75)  # Top 25% of loan amounts\n",
    "high_credit_score = 750  # Good credit score threshold\n",
    "\n",
    "# Filter customers who meet these conditions\n",
    "high_value_customers = df[\n",
    "    (df['Loan_Amount'] >= high_loan_threshold) &  # High loan amount\n",
    "    (df['Credit_Score'] >= high_credit_score) &  # Good credit score\n",
    "    (df['Default_Flag'] == 0)  # Never defaulted\n",
    "]\n",
    "\n",
    "# Display the top high-value customers\n",
    "print(high_value_customers[['Customer_ID', 'Full_Name', 'Loan_Amount', 'Credit_Score']].head(10))\n",
    "\n",
    "high_value_customers_sorted = high_value_customers.sort_values(by='Loan_Amount', ascending=False)\n",
    "print(high_value_customers_sorted[['Customer_ID', 'Full_Name', 'Loan_Amount', 'Credit_Score']].head(10))\n",
    "\n",
    "customer_segments = high_value_customers.groupby('Segment').size()\n",
    "print(customer_segments)\n",
    "\n",
    "import seaborn as sns\n",
    "import matplotlib.pyplot as plt\n",
    "\n",
    "plt.figure(figsize=(10,5))\n",
    "sns.histplot(high_value_customers['Loan_Amount'], bins=20, kde=True)\n",
    "plt.title('Distribution of Loan Amounts for High-Value Customers')\n",
    "plt.show()\n",
    "\n",
    "\n"
   ]
  },
  {
   "cell_type": "code",
   "execution_count": null,
   "id": "721e8429-9846-4ad8-a73e-28a9850c637e",
   "metadata": {},
   "outputs": [],
   "source": [
    "df.columns"
   ]
  },
  {
   "cell_type": "markdown",
   "id": "106621dc-cf46-4664-b326-70b3c5aa7a87",
   "metadata": {},
   "source": [
    "18. Risk Assessment "
   ]
  },
  {
   "cell_type": "markdown",
   "id": "6b81e718-f6cc-47ab-83fd-b0307782843b",
   "metadata": {},
   "source": [
    "● Develop a risk matrix for loan products based on Default_Amount, \n",
    "Loan_Term, and Interest_Rate. "
   ]
  },
  {
   "cell_type": "code",
   "execution_count": null,
   "id": "65239f80-c347-4def-8ad2-b4d206a69121",
   "metadata": {},
   "outputs": [],
   "source": [
    "import numpy as np\n",
    "\n",
    "# Define risk categories for Default_Amount\n",
    "def categorize_default_risk(amount):\n",
    "    if amount < 50000:\n",
    "        return \"Low\"\n",
    "    elif 50000 <= amount <= 200000:\n",
    "        return \"Medium\"\n",
    "    else:\n",
    "        return \"High\"\n",
    "\n",
    "# Define risk categories for Loan_Term\n",
    "def categorize_term_risk(term):\n",
    "    if term < 24:\n",
    "        return \"Low\"\n",
    "    elif 24 <= term <= 60:\n",
    "        return \"Medium\"\n",
    "    else:\n",
    "        return \"High\"\n",
    "\n",
    "# Define risk categories for Interest_Rate\n",
    "def categorize_interest_risk(rate):\n",
    "    if rate < 8:\n",
    "        return \"Low\"\n",
    "    elif 8 <= rate <= 15:\n",
    "        return \"Medium\"\n",
    "    else:\n",
    "        return \"High\"\n",
    "\n",
    "# Apply functions to create new columns\n",
    "df['Default_Risk'] = df['Default_Amount'].apply(categorize_default_risk)\n",
    "df['Term_Risk'] = df['Loan_Term'].apply(categorize_term_risk)\n",
    "df['Interest_Risk'] = df['Interest_Rate'].apply(categorize_interest_risk)\n",
    "\n",
    "# Combine the three risk factors to create an overall risk category\n",
    "df['Risk_Level'] = df[['Default_Risk', 'Term_Risk', 'Interest_Risk']].mode(axis=1)[0]\n",
    "\n",
    "# Display a few rows to check the risk categories\n",
    "df[['Loan_ID_y', 'Default_Amount', 'Loan_Term', 'Interest_Rate', 'Risk_Level']].head(10)\n"
   ]
  },
  {
   "cell_type": "code",
   "execution_count": null,
   "id": "c2d05f6e-1f16-46f3-83d0-8d2579efc9d3",
   "metadata": {},
   "outputs": [],
   "source": [
    "import seaborn as sns\n",
    "import matplotlib.pyplot as plt\n",
    "\n",
    "# Pivot table for visualization\n",
    "risk_matrix = df.pivot_table(index=\"Loan_Term\", columns=\"Interest_Rate\", values=\"Default_Amount\", aggfunc='mean')\n",
    "\n",
    "# Plot heatmap\n",
    "plt.figure(figsize=(10,6))\n",
    "sns.heatmap(risk_matrix, cmap=\"coolwarm\", annot=True, fmt=\".0f\", linewidths=0.5)\n",
    "plt.title(\"Risk Matrix - Default Amount by Loan Term & Interest Rate\")\n",
    "plt.xlabel(\"Interest Rate (%)\")\n",
    "plt.ylabel(\"Loan Term (months)\")\n",
    "plt.show()\n"
   ]
  },
  {
   "cell_type": "markdown",
   "id": "7b705b84-4aad-42da-924e-54555eaf93c7",
   "metadata": {},
   "source": [
    "● Rank loan types by risk level and suggest mitigation strategies. "
   ]
  },
  {
   "cell_type": "code",
   "execution_count": null,
   "id": "b02de786-3cee-4f11-9ebb-0858cd8c6649",
   "metadata": {},
   "outputs": [],
   "source": [
    "# Group by Loan Purpose (or Loan_Type, if available)\n",
    "loan_risk = df.groupby('Loan_Purpose').agg(\n",
    "    Total_Loans=('Loan_ID_y', 'count'),\n",
    "    Total_Defaults=('Default_Flag', 'sum'),\n",
    "    Avg_Default_Amount=('Default_Amount', 'mean'),\n",
    "    Avg_Loan_Term=('Loan_Term', 'mean'),\n",
    "    Avg_Interest_Rate=('Interest_Rate', 'mean')\n",
    ").reset_index()\n",
    "\n",
    "# Calculate Default Rate\n",
    "loan_risk['Default_Rate'] = loan_risk['Total_Defaults'] / loan_risk['Total_Loans']\n",
    "\n",
    "# Rank Loan Types by Risk (Higher Default Rate & Amount = Higher Risk)\n",
    "loan_risk['Risk_Score'] = (loan_risk['Default_Rate'] * 0.5) + \\\n",
    "                          (loan_risk['Avg_Default_Amount'] * 0.3) + \\\n",
    "                          (loan_risk['Avg_Interest_Rate'] * 0.2)\n",
    "\n",
    "# Rank from highest risk to lowest\n",
    "loan_risk = loan_risk.sort_values(by='Risk_Score', ascending=False)\n",
    "\n",
    "# Display the top high-risk loan types\n",
    "loan_risk[['Loan_Purpose', 'Default_Rate', 'Avg_Default_Amount', 'Risk_Score']].head(10)\n"
   ]
  },
  {
   "cell_type": "code",
   "execution_count": null,
   "id": "9936609d-6af7-4671-ae2f-c2a6c95ee18f",
   "metadata": {},
   "outputs": [],
   "source": [
    "import seaborn as sns\n",
    "import matplotlib.pyplot as plt\n",
    "\n",
    "plt.figure(figsize=(12,6))\n",
    "sns.barplot(y=loan_risk['Risk_Score'], x=loan_risk['Loan_Purpose'], palette=\"Reds_r\")\n",
    "plt.xlabel(\"Risk Score\")\n",
    "plt.ylabel(\"Loan Purpose\")\n",
    "plt.title(\"Loan Types Ranked by Risk Level\")\n",
    "plt.show()\n"
   ]
  },
  {
   "cell_type": "markdown",
   "id": "08faa989-435c-40e5-95f7-b5eb87f382ad",
   "metadata": {},
   "source": [
    "● Analyze high-risk customer segments by credit score and income. "
   ]
  },
  {
   "cell_type": "code",
   "execution_count": null,
   "id": "951a00a1-c3d1-4c38-a956-bed7640d0fa9",
   "metadata": {},
   "outputs": [],
   "source": [
    "# Define Risk Categories Based on Credit Score\n",
    "def credit_risk_category(score):\n",
    "    if score < 600:\n",
    "        return 'High Risk'\n",
    "    elif 600 <= score < 750:\n",
    "        return 'Medium Risk'\n",
    "    else:\n",
    "        return 'Low Risk'\n",
    "\n",
    "# Apply Credit Risk Segmentation\n",
    "df['Credit_Risk'] = df['Credit_Score'].apply(credit_risk_category)\n",
    "\n",
    "# Define Income Segments\n",
    "def income_category(income):\n",
    "    if income < 500000:\n",
    "        return 'Low Income'\n",
    "    elif 500000 <= income <= 1500000:\n",
    "        return 'Middle Income'\n",
    "    else:\n",
    "        return 'High Income'\n",
    "\n",
    "# Apply Income Segmentation\n",
    "df['Income_Category'] = df['Annual_Income'].apply(income_category)\n",
    "\n",
    "# Count Defaults in Each Segment\n",
    "risk_analysis = df.groupby(['Credit_Risk', 'Income_Category'])['Default_Flag'].sum().reset_index()\n"
   ]
  },
  {
   "cell_type": "code",
   "execution_count": null,
   "id": "b8d0be22-b58d-4847-af8c-1d4be74a384f",
   "metadata": {},
   "outputs": [],
   "source": [
    "import seaborn as sns\n",
    "import matplotlib.pyplot as plt\n",
    "\n",
    "plt.figure(figsize=(10,6))\n",
    "sns.barplot(x=\"Income_Category\", y=\"Default_Flag\", hue=\"Credit_Risk\", data=risk_analysis, palette=\"Reds\")\n",
    "plt.xlabel(\"Income Category\")\n",
    "plt.ylabel(\"Number of Defaults\")\n",
    "plt.title(\"Default Count by Credit Score and Income Segments\")\n",
    "plt.legend(title=\"Credit Risk\")\n",
    "plt.show()\n"
   ]
  },
  {
   "cell_type": "markdown",
   "id": "189cf5b5-4e5f-46b5-bde5-03c6e20eddda",
   "metadata": {},
   "source": [
    "19. Time to Default Analysis "
   ]
  },
  {
   "cell_type": "markdown",
   "id": "589ba59c-8be9-40b3-9d43-b0a9ddcc3e3d",
   "metadata": {},
   "source": [
    "● Calculate the average time from loan disbursement to default for overdue \n",
    "loans."
   ]
  },
  {
   "cell_type": "code",
   "execution_count": null,
   "id": "a5c73d7a-b180-406f-9975-63fce1ee7ad3",
   "metadata": {},
   "outputs": [],
   "source": [
    "import pandas as pd\n",
    "\n",
    "# Ensure date columns are in datetime format\n",
    "df['Disbursal_Date'] = pd.to_datetime(df['Disbursal_Date'])\n",
    "df['Default_Date'] = pd.to_datetime(df['Default_Date'])\n",
    "\n",
    "# Filter only defaulted loans\n",
    "overdue_loans = df[df['Default_Flag'] == 1]\n",
    "\n",
    "# Calculate time difference in days\n",
    "overdue_loans['Days_to_Default'] = (overdue_loans['Default_Date'] - overdue_loans['Disbursal_Date']).dt.days\n",
    "\n",
    "# Compute the average time to default\n",
    "average_time_to_default = overdue_loans['Days_to_Default'].mean()\n",
    "\n",
    "print(f\"📌 The average time from loan disbursement to default is {average_time_to_default:.2f} days.\")\n"
   ]
  },
  {
   "cell_type": "code",
   "execution_count": null,
   "id": "bd8dd7bb-5508-4af4-9dfe-c970b967a19b",
   "metadata": {},
   "outputs": [],
   "source": [
    "import matplotlib.pyplot as plt\n",
    "import seaborn as sns\n",
    "\n",
    "plt.figure(figsize=(10,6))\n",
    "sns.histplot(overdue_loans['Days_to_Default'], bins=30, kde=True, color='red')\n",
    "plt.xlabel(\"Days from Disbursement to Default\")\n",
    "plt.ylabel(\"Number of Loans\")\n",
    "plt.title(\"Distribution of Time to Default for Overdue Loans\")\n",
    "plt.show()\n"
   ]
  },
  {
   "cell_type": "markdown",
   "id": "322c0bde-c775-4504-8eb8-d991def801e2",
   "metadata": {},
   "source": [
    "● Identify loan purposes with the shortest time to default. "
   ]
  },
  {
   "cell_type": "code",
   "execution_count": null,
   "id": "a4f8a7ec-bd75-4982-b0f9-f0d7f062b636",
   "metadata": {},
   "outputs": [],
   "source": [
    "import pandas as pd\n",
    "\n",
    "# Ensure date columns are in datetime format\n",
    "df['Disbursal_Date'] = pd.to_datetime(df['Disbursal_Date'])\n",
    "df['Default_Date'] = pd.to_datetime(df['Default_Date'])\n",
    "\n",
    "# Filter only defaulted loans\n",
    "defaulted_loans = df[df['Default_Flag'] == 1]\n",
    "\n",
    "# Calculate time difference in days\n",
    "defaulted_loans['Days_to_Default'] = (defaulted_loans['Default_Date'] - defaulted_loans['Disbursal_Date']).dt.days\n",
    "\n",
    "# Group by Loan_Purpose and calculate average time to default\n",
    "loan_purpose_analysis = defaulted_loans.groupby('Loan_Purpose')['Days_to_Default'].mean().reset_index()\n",
    "\n",
    "# Sort by shortest time to default\n",
    "loan_purpose_analysis = loan_purpose_analysis.sort_values(by='Days_to_Default')\n",
    "\n",
    "# Display the top 5 loan purposes with the shortest time to default\n",
    "print(\"📌 Loan Purposes with the Shortest Time to Default:\")\n",
    "print(loan_purpose_analysis.head(5))\n"
   ]
  },
  {
   "cell_type": "code",
   "execution_count": null,
   "id": "22ffa17e-aac8-425c-8956-1f1e11a80911",
   "metadata": {},
   "outputs": [],
   "source": [
    "import matplotlib.pyplot as plt\n",
    "import seaborn as sns\n",
    "\n",
    "plt.figure(figsize=(12,6))\n",
    "sns.barplot(x='Days_to_Default', y='Loan_Purpose', data=loan_purpose_analysis.head(10), palette=\"Reds_r\")\n",
    "plt.xlabel(\"Average Days to Default\")\n",
    "plt.ylabel(\"Loan Purpose\")\n",
    "plt.title(\"Loan Purposes with the Shortest Time to Default\")\n",
    "plt.show()\n"
   ]
  },
  {
   "cell_type": "markdown",
   "id": "152a5961-fffb-4869-a26d-5024d262b3c8",
   "metadata": {},
   "source": [
    "● Compare the time to default across customer demographics. "
   ]
  },
  {
   "cell_type": "code",
   "execution_count": null,
   "id": "4becc6d2-859b-4454-9529-038b893dc6c8",
   "metadata": {},
   "outputs": [],
   "source": [
    "import pandas as pd\n",
    "import matplotlib.pyplot as plt\n",
    "import seaborn as sns\n",
    "\n",
    "# Ensure date columns are in datetime format\n",
    "df['Disbursal_Date'] = pd.to_datetime(df['Disbursal_Date'])\n",
    "df['Default_Date'] = pd.to_datetime(df['Default_Date'])\n",
    "\n",
    "# Filter only defaulted loans\n",
    "defaulted_loans = df[df['Default_Flag'] == 1]\n",
    "\n",
    "# Calculate time to default in days\n",
    "defaulted_loans['Days_to_Default'] = (defaulted_loans['Default_Date'] - defaulted_loans['Disbursal_Date']).dt.days\n",
    "\n",
    "# Group by customer demographics and calculate average time to default\n",
    "age_analysis = defaulted_loans.groupby('Age')['Days_to_Default'].mean().reset_index()\n",
    "income_analysis = defaulted_loans.groupby('Annual_Income')['Days_to_Default'].mean().reset_index()\n",
    "credit_score_analysis = defaulted_loans.groupby('Credit_Score')['Days_to_Default'].mean().reset_index()\n",
    "employment_analysis = defaulted_loans.groupby('Employment_Status')['Days_to_Default'].mean().reset_index()\n",
    "\n",
    "# Display results\n",
    "print(\"📌 Average Time to Default by Age Group:\")\n",
    "print(age_analysis.sort_values(by='Days_to_Default').head(5))\n",
    "\n",
    "print(\"\\n📌 Average Time to Default by Annual Income:\")\n",
    "print(income_analysis.sort_values(by='Days_to_Default').head(5))\n",
    "\n",
    "print(\"\\n📌 Average Time to Default by Credit Score:\")\n",
    "print(credit_score_analysis.sort_values(by='Days_to_Default').head(5))\n",
    "\n",
    "print(\"\\n📌 Average Time to Default by Employment Status:\")\n",
    "print(employment_analysis.sort_values(by='Days_to_Default').head(5))\n"
   ]
  },
  {
   "cell_type": "code",
   "execution_count": null,
   "id": "884fff09-36f4-47ad-9a4e-33cdd91b9ca8",
   "metadata": {},
   "outputs": [],
   "source": [
    "plt.figure(figsize=(12,6))\n",
    "sns.lineplot(x='Credit_Score', y='Days_to_Default', data=credit_score_analysis, marker=\"o\", color=\"red\")\n",
    "plt.xlabel(\"Credit Score\")\n",
    "plt.ylabel(\"Average Days to Default\")\n",
    "plt.title(\"Time to Default by Credit Score\")\n",
    "plt.show()\n"
   ]
  },
  {
   "cell_type": "markdown",
   "id": "0cf3f267-a465-4a42-a3a2-f35e98ba719b",
   "metadata": {},
   "source": [
    "20. Transaction Pattern Analysis "
   ]
  },
  {
   "cell_type": "markdown",
   "id": "e200347f-7daf-48c5-a9b3-8535d2c0b96b",
   "metadata": {},
   "source": [
    "● Identify customers with irregular repayment patterns. "
   ]
  },
  {
   "cell_type": "code",
   "execution_count": null,
   "id": "cd106b8f-dc03-4d7c-bdf4-a8a942093f49",
   "metadata": {},
   "outputs": [],
   "source": [
    "import pandas as pd\n",
    "\n",
    "# Filter required columns\n",
    "df_repayment = df[['Customer_ID', 'Loan_ID_x', 'EMI_Amount', 'Overdue_Amount', 'On_Time_Payment']]\n",
    "\n",
    "# Identify late payers (customers with overdue amounts)\n",
    "df_late_payers = df_repayment[df_repayment['Overdue_Amount'] > 0]\n",
    "\n",
    "# Group by customer and count overdue occurrences\n",
    "customer_irregular_repayments = df_late_payers.groupby('Customer_ID').agg({\n",
    "    'Loan_ID_x': 'count',  # Number of loans with overdue\n",
    "    'Overdue_Amount': 'sum',  # Total overdue amount\n",
    "    'On_Time_Payment': 'mean'  # Percentage of on-time payments\n",
    "}).reset_index()\n",
    "\n",
    "# Rename columns\n",
    "customer_irregular_repayments.rename(columns={'Loan_ID_x': 'Overdue_Loan_Count'}, inplace=True)\n",
    "\n",
    "# Classify customers based on repayment behavior\n",
    "def classify_irregular_repayment(row):\n",
    "    if row['On_Time_Payment'] < 0.5:  # Less than 50% on-time payments\n",
    "        return 'Frequent Defaulter'\n",
    "    elif row['Overdue_Loan_Count'] > 2 and row['Overdue_Amount'] > 50000:\n",
    "        return 'High-Risk Borrower'\n",
    "    elif row['Overdue_Loan_Count'] > 1:\n",
    "        return 'Occasional Defaulter'\n",
    "    else:\n",
    "        return 'Moderate Risk'\n",
    "\n",
    "customer_irregular_repayments['Repayment_Category'] = customer_irregular_repayments.apply(classify_irregular_repayment, axis=1)\n",
    "\n",
    "# Display top irregular repayment customers\n",
    "print(customer_irregular_repayments.head(10))\n"
   ]
  },
  {
   "cell_type": "code",
   "execution_count": null,
   "id": "fbfd579c-2352-4fb8-ac86-d35df8434db5",
   "metadata": {},
   "outputs": [],
   "source": [
    "import matplotlib.pyplot as plt\n",
    "import seaborn as sns\n",
    "\n",
    "plt.figure(figsize=(10,6))\n",
    "sns.countplot(x='Repayment_Category', data=customer_irregular_repayments, palette=\"coolwarm\")\n",
    "plt.xlabel(\"Repayment Category\")\n",
    "plt.ylabel(\"Number of Customers\")\n",
    "plt.title(\"Classification of Customers by Repayment Behavior\")\n",
    "plt.xticks(rotation=45)\n",
    "plt.show()\n"
   ]
  },
  {
   "cell_type": "markdown",
   "id": "ad237bcf-c6e2-4d51-b999-8f8dce3106c5",
   "metadata": {},
   "source": [
    "● Analyze penalty payments as a proportion of total transactions. "
   ]
  },
  {
   "cell_type": "code",
   "execution_count": null,
   "id": "cd832590-9a50-40b4-9a8b-b3b9fe4501ca",
   "metadata": {},
   "outputs": [],
   "source": [
    "import pandas as pd\n",
    "\n",
    "# Ensure required columns exist\n",
    "if 'Overdue_Fee' in df.columns and 'Amount' in df.columns:\n",
    "    # Calculate total penalty payments and total transaction amount\n",
    "    total_penalty_payments = df['Overdue_Fee'].sum()\n",
    "    total_transaction_amount = df['Amount'].sum()\n",
    "\n",
    "    # Calculate the proportion of penalty payments\n",
    "    penalty_proportion = (total_penalty_payments / total_transaction_amount) * 100\n",
    "\n",
    "    print(f\"Total Penalty Payments: {total_penalty_payments}\")\n",
    "    print(f\"Total Transaction Amount: {total_transaction_amount}\")\n",
    "    print(f\"Penalty Payment Proportion: {penalty_proportion:.2f}%\")\n",
    "else:\n",
    "    print(\"Required columns ('Overdue_Fee' and 'Amount') not found in the dataset.\")\n"
   ]
  },
  {
   "cell_type": "code",
   "execution_count": null,
   "id": "adc65e33-87f0-4c43-b252-5b775a266fe6",
   "metadata": {},
   "outputs": [],
   "source": [
    "import matplotlib.pyplot as plt\n",
    "\n",
    "labels = ['Penalty Payments', 'Regular Payments']\n",
    "sizes = [total_penalty_payments, total_transaction_amount - total_penalty_payments]\n",
    "colors = ['red', 'green']\n",
    "explode = (0.1, 0)  # Slightly separate the penalty payments section\n",
    "\n",
    "plt.figure(figsize=(7, 7))\n",
    "plt.pie(sizes, labels=labels, autopct='%1.1f%%', colors=colors, explode=explode, shadow=True, startangle=140)\n",
    "plt.title(\"Proportion of Penalty Payments in Total Transactions\")\n",
    "plt.show()\n"
   ]
  },
  {
   "cell_type": "markdown",
   "id": "ba5c5a57-6bc3-4d40-9f50-2561ec589892",
   "metadata": {},
   "source": [
    "● Compare transaction amounts for overdue vs. non-overdue loans. "
   ]
  },
  {
   "cell_type": "code",
   "execution_count": null,
   "id": "50fc2c92-9d8e-44ef-9a01-fe8b9cc91c4a",
   "metadata": {},
   "outputs": [],
   "source": [
    "import pandas as pd\n",
    "\n",
    "# Ensure required columns exist\n",
    "if 'Overdue_Amount' in df.columns and 'Amount' in df.columns:\n",
    "    # Categorize loans as overdue or non-overdue\n",
    "    overdue_loans = df[df['Overdue_Amount'] > 0]\n",
    "    non_overdue_loans = df[df['Overdue_Amount'] == 0]\n",
    "\n",
    "    # Calculate total and average transaction amounts\n",
    "    overdue_total = overdue_loans['Amount'].sum()\n",
    "    non_overdue_total = non_overdue_loans['Amount'].sum()\n",
    "\n",
    "    overdue_avg = overdue_loans['Amount'].mean()\n",
    "    non_overdue_avg = non_overdue_loans['Amount'].mean()\n",
    "\n",
    "    # Print results\n",
    "    print(f\"Total Transaction Amount for Overdue Loans: {overdue_total}\")\n",
    "    print(f\"Total Transaction Amount for Non-Overdue Loans: {non_overdue_total}\")\n",
    "    print(f\"Average Transaction Amount for Overdue Loans: {overdue_avg:.2f}\")\n",
    "    print(f\"Average Transaction Amount for Non-Overdue Loans: {non_overdue_avg:.2f}\")\n",
    "else:\n",
    "    print(\"Required columns ('Overdue_Amount' and 'Amount') not found in the dataset.\")\n"
   ]
  },
  {
   "cell_type": "code",
   "execution_count": null,
   "id": "b289fcd5-cade-44af-846d-6dbba328de64",
   "metadata": {},
   "outputs": [],
   "source": [
    "import matplotlib.pyplot as plt\n",
    "\n",
    "categories = ['Overdue Loans', 'Non-Overdue Loans']\n",
    "totals = [overdue_total, non_overdue_total]\n",
    "averages = [overdue_avg, non_overdue_avg]\n",
    "\n",
    "plt.figure(figsize=(10,5))\n",
    "\n",
    "# Plot total transaction amounts\n",
    "plt.subplot(1,2,1)\n",
    "plt.bar(categories, totals, color=['red', 'green'])\n",
    "plt.title(\"Total Transaction Amount\")\n",
    "plt.ylabel(\"Amount\")\n",
    "\n",
    "# Plot average transaction amounts\n",
    "plt.subplot(1,2,2)\n",
    "plt.bar(categories, averages, color=['red', 'green'])\n",
    "plt.title(\"Average Transaction Amount\")\n",
    "plt.ylabel(\"Amount\")\n",
    "\n",
    "plt.tight_layout()\n",
    "plt.show()\n"
   ]
  },
  {
   "cell_type": "markdown",
   "id": "f5672184-7a7d-4fb5-937e-657d17990a9a",
   "metadata": {},
   "source": [
    "Collective Agenda "
   ]
  },
  {
   "cell_type": "markdown",
   "id": "e89aabf3-58ea-4abc-8c53-bc845968832a",
   "metadata": {},
   "source": [
    "The collective agenda is to provide Hero FinCorp with actionable \n",
    "recommendations to: "
   ]
  },
  {
   "cell_type": "markdown",
   "id": "6715b52c-c5e1-43c8-8da7-c682d45e04a2",
   "metadata": {},
   "source": [
    "1. Minimize loan defaults by identifying high-risk customers and regions. "
   ]
  },
  {
   "cell_type": "code",
   "execution_count": null,
   "id": "8da3a58b-b619-46df-9de3-a27191aef105",
   "metadata": {},
   "outputs": [],
   "source": [
    "# Filter high-risk customers based on predefined thresholds\n",
    "high_risk_customers = df[(df['Credit_Score'] < 600) | (df['Default_Flag'] == 1)]\n",
    "\n",
    "# Display summary statistics for high-risk customers\n",
    "print(\"High-Risk Customers Summary:\")\n",
    "print(high_risk_customers[['Customer_ID', 'Credit_Score', 'Annual_Income', 'Default_Flag']].describe())\n",
    "\n",
    "# Count of high-risk customers\n",
    "num_high_risk = high_risk_customers.shape[0]\n",
    "print(f\"Total High-Risk Customers: {num_high_risk}\")\n"
   ]
  },
  {
   "cell_type": "code",
   "execution_count": null,
   "id": "1c177af9-bf74-49e6-8572-8adf151f22bd",
   "metadata": {},
   "outputs": [],
   "source": [
    "import seaborn as sns\n",
    "import matplotlib.pyplot as plt\n",
    "\n",
    "plt.figure(figsize=(8,5))\n",
    "sns.histplot(high_risk_customers['Credit_Score'], bins=20, color=\"red\", kde=True)\n",
    "plt.title(\"Distribution of Credit Scores Among High-Risk Customers\")\n",
    "plt.xlabel(\"Credit Score\")\n",
    "plt.ylabel(\"Count\")\n",
    "plt.show()\n"
   ]
  },
  {
   "cell_type": "markdown",
   "id": "ae6f1e2e-86e9-4e8c-9131-5f6f2933420b",
   "metadata": {},
   "source": [
    "2. Optimize branch operations by improving processing time and recovery \n",
    "rates. "
   ]
  },
  {
   "cell_type": "code",
   "execution_count": null,
   "id": "c7910987-1f0c-4222-8ebf-cb71a57905d4",
   "metadata": {},
   "outputs": [],
   "source": [
    "# Calculate processing time\n",
    "df['Processing_Time'] = (pd.to_datetime(df['Approval_Date']) - pd.to_datetime(df['Application_Date'])).dt.days\n",
    "\n",
    "# Group by branch and calculate average processing time\n",
    "branch_processing = df.groupby('Branch_ID')['Processing_Time'].mean().reset_index()\n",
    "\n",
    "# Display branches with the highest processing time\n",
    "print(\"Branches with Highest Processing Time:\")\n",
    "print(branch_processing.sort_values(by='Processing_Time', ascending=False).head(10))\n"
   ]
  },
  {
   "cell_type": "code",
   "execution_count": null,
   "id": "bc99c175-cbc4-4c9c-b780-c955285c0000",
   "metadata": {},
   "outputs": [],
   "source": [
    "plt.figure(figsize=(10,5))\n",
    "sns.barplot(x=branch_processing['Branch_ID'], y=branch_processing['Processing_Time'], palette=\"Blues_r\")\n",
    "plt.xticks(rotation=45)\n",
    "plt.title(\"Average Loan Processing Time by Branch\")\n",
    "plt.ylabel(\"Processing Time (Days)\")\n",
    "plt.show()\n"
   ]
  },
  {
   "cell_type": "code",
   "execution_count": null,
   "id": "df13390e-3302-45ba-9688-104046c2e0b2",
   "metadata": {},
   "outputs": [],
   "source": [
    "# Group by branch and calculate recovery rate\n",
    "branch_recovery = df.groupby('Branch_ID').agg(\n",
    "    Total_Default_Amount=('Default_Amount', 'sum'),\n",
    "    Total_Recovery_Amount=('Recovery_Amount', 'sum')\n",
    ")\n",
    "\n",
    "# Calculate recovery rate\n",
    "branch_recovery['Recovery_Rate'] = (branch_recovery['Total_Recovery_Amount'] / branch_recovery['Total_Default_Amount']) * 100\n",
    "\n",
    "# Display top branches with the highest recovery rate\n",
    "print(\"Top Branches by Recovery Rate:\")\n",
    "print(branch_recovery.sort_values(by='Recovery_Rate', ascending=False).head(10))\n"
   ]
  },
  {
   "cell_type": "code",
   "execution_count": null,
   "id": "c70dde96-c436-4b68-8162-2bf3b7e82e58",
   "metadata": {},
   "outputs": [],
   "source": [
    "plt.figure(figsize=(10,5))\n",
    "sns.barplot(x=branch_recovery.index, y=branch_recovery['Recovery_Rate'], palette=\"Greens_r\")\n",
    "plt.xticks(rotation=45)\n",
    "plt.title(\"Branch-Wise Recovery Rates\")\n",
    "plt.ylabel(\"Recovery Rate (%)\")\n",
    "plt.show()\n"
   ]
  },
  {
   "cell_type": "code",
   "execution_count": null,
   "id": "e80faccc-132e-4c64-8563-8f8787559805",
   "metadata": {},
   "outputs": [],
   "source": [
    "# Merge branch processing and recovery data\n",
    "branch_efficiency = branch_processing.merge(branch_recovery, on='Branch_ID')\n",
    "\n",
    "# Display branch efficiency summary\n",
    "print(\"Branch Efficiency Summary:\")\n",
    "print(branch_efficiency.head(10))\n"
   ]
  },
  {
   "cell_type": "code",
   "execution_count": null,
   "id": "d71ff665-a22d-41f2-9cf8-63e6b1502384",
   "metadata": {},
   "outputs": [],
   "source": [
    "plt.figure(figsize=(8,5))\n",
    "sns.scatterplot(data=branch_efficiency, x='Processing_Time', y='Recovery_Rate', hue='Branch_ID', palette=\"coolwarm\")\n",
    "plt.title(\"Branch Efficiency: Processing Time vs. Recovery Rate\")\n",
    "plt.xlabel(\"Average Processing Time (Days)\")\n",
    "plt.ylabel(\"Recovery Rate (%)\")\n",
    "plt.show()\n"
   ]
  },
  {
   "cell_type": "markdown",
   "id": "6ed2dc23-e15f-456e-baa1-5c4f615d9b5a",
   "metadata": {},
   "source": [
    "3. Enhance profitability through better customer segmentation and interest \n",
    "income strategies"
   ]
  },
  {
   "cell_type": "code",
   "execution_count": null,
   "id": "273c8160-90c8-45c8-92fa-e3fa72297a83",
   "metadata": {},
   "outputs": [],
   "source": [
    "# Define customer segments based on income\n",
    "def income_segment(income):\n",
    "    if income < 300000:\n",
    "        return 'Low Income'\n",
    "    elif income < 800000:\n",
    "        return 'Middle Income'\n",
    "    else:\n",
    "        return 'High Income'\n",
    "\n",
    "df['Income_Segment'] = df['Annual_Income'].apply(income_segment)\n",
    "\n",
    "# Define risk levels based on Credit Score\n",
    "def credit_segment(score):\n",
    "    if score < 600:\n",
    "        return 'High Risk'\n",
    "    elif score < 750:\n",
    "        return 'Medium Risk'\n",
    "    else:\n",
    "        return 'Low Risk'\n",
    "\n",
    "df['Credit_Segment'] = df['Credit_Score'].apply(credit_segment)\n",
    "\n",
    "# Group by segments and analyze default trends\n",
    "customer_segments = df.groupby(['Income_Segment', 'Credit_Segment']).agg(\n",
    "    Total_Loans=('Loan_Amount', 'count'),\n",
    "    Avg_Loan_Amount=('Loan_Amount', 'mean'),\n",
    "    Default_Rate=('Default_Flag', 'mean')\n",
    ").reset_index()\n",
    "\n",
    "# Display segment-wise analysis\n",
    "print(customer_segments)\n"
   ]
  },
  {
   "cell_type": "code",
   "execution_count": null,
   "id": "7491872c-4005-41ad-8373-58b0ce89d919",
   "metadata": {},
   "outputs": [],
   "source": [
    "plt.figure(figsize=(10,5))\n",
    "sns.barplot(data=customer_segments, x=\"Income_Segment\", y=\"Default_Rate\", hue=\"Credit_Segment\", palette=\"coolwarm\")\n",
    "plt.title(\"Default Rates by Customer Segments\")\n",
    "plt.ylabel(\"Default Rate (%)\")\n",
    "plt.show()\n"
   ]
  },
  {
   "cell_type": "code",
   "execution_count": null,
   "id": "d3524e24-45fd-4bf2-8f7f-ccc4bd9afa98",
   "metadata": {},
   "outputs": [],
   "source": [
    "# Calculate interest income\n",
    "df['Interest_Income'] = (df['Loan_Amount'] * df['Interest_Rate'] * df['Loan_Term']) / 100\n",
    "\n",
    "# Aggregate interest income by loan purpose\n",
    "interest_by_purpose = df.groupby('Loan_Purpose').agg(\n",
    "    Total_Interest_Income=('Interest_Income', 'sum'),\n",
    "    Avg_Interest_Rate=('Interest_Rate', 'mean')\n",
    ").reset_index()\n",
    "\n",
    "# Display most profitable loan purposes\n",
    "print(interest_by_purpose.sort_values(by='Total_Interest_Income', ascending=False).head(10))\n"
   ]
  },
  {
   "cell_type": "code",
   "execution_count": null,
   "id": "50a78d5b-4d3f-42aa-b3cd-de0463199f7a",
   "metadata": {},
   "outputs": [],
   "source": [
    "plt.figure(figsize=(10,5))\n",
    "sns.barplot(data=interest_by_purpose, x=\"Loan_Purpose\", y=\"Total_Interest_Income\", palette=\"viridis\")\n",
    "plt.xticks(rotation=45)\n",
    "plt.title(\"Total Interest Income by Loan Purpose\")\n",
    "plt.ylabel(\"Total Interest Income (in ₹)\")\n",
    "plt.show()\n"
   ]
  },
  {
   "cell_type": "code",
   "execution_count": null,
   "id": "9dc304d4-1686-4ef8-8d63-eff019021798",
   "metadata": {},
   "outputs": [],
   "source": [
    "# Group by branch and calculate total interest income\n",
    "branch_profitability = df.groupby('Branch_ID').agg(\n",
    "    Total_Interest_Income=('Interest_Income', 'sum'),\n",
    "    Avg_Loan_Amount=('Loan_Amount', 'mean'),\n",
    "    Total_Customers=('Customer_ID', 'count')\n",
    ").reset_index()\n",
    "\n",
    "# Display top branches by interest income\n",
    "print(branch_profitability.sort_values(by='Total_Interest_Income', ascending=False).head(10))\n"
   ]
  },
  {
   "cell_type": "code",
   "execution_count": null,
   "id": "dcb54181-4e0f-4239-88a6-2c5808bd8a69",
   "metadata": {},
   "outputs": [],
   "source": [
    "plt.figure(figsize=(10,5))\n",
    "sns.barplot(data=branch_profitability, x=\"Branch_ID\", y=\"Total_Interest_Income\", palette=\"coolwarm\")\n",
    "plt.xticks(rotation=45)\n",
    "plt.title(\"Branch-Wise Interest Income\")\n",
    "plt.ylabel(\"Total Interest Income (in ₹)\")\n",
    "plt.show()\n"
   ]
  }
 ],
 "metadata": {
  "kernelspec": {
   "display_name": "Python [conda env:base] *",
   "language": "python",
   "name": "conda-base-py"
  },
  "language_info": {
   "codemirror_mode": {
    "name": "ipython",
    "version": 3
   },
   "file_extension": ".py",
   "mimetype": "text/x-python",
   "name": "python",
   "nbconvert_exporter": "python",
   "pygments_lexer": "ipython3",
   "version": "3.12.7"
  }
 },
 "nbformat": 4,
 "nbformat_minor": 5
}
